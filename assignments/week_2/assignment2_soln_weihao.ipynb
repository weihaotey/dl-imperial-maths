{
 "cells": [
  {
   "cell_type": "code",
   "execution_count": 1,
   "metadata": {},
   "outputs": [],
   "source": [
    "import tensorflow as tf\n",
    "#from scipy.io import loadmat"
   ]
  },
  {
   "cell_type": "code",
   "execution_count": 1,
   "metadata": {},
   "outputs": [
    {
     "name": "stderr",
     "output_type": "stream",
     "text": [
      "C:\\Users\\User\\Anaconda3\\envs\\tensorflow_env\\lib\\site-packages\\ipykernel_launcher.py:9: DeprecationWarning: The binary mode of fromstring is deprecated, as it behaves surprisingly on unicode inputs. Use frombuffer instead\n",
      "  if __name__ == '__main__':\n"
     ]
    },
    {
     "name": "stdout",
     "output_type": "stream",
     "text": [
      "(60000, 28, 28)\n",
      "(60000, 1)\n",
      "(10000, 28, 28)\n",
      "(10000, 1)\n"
     ]
    }
   ],
   "source": [
    "import struct\n",
    "\n",
    "import numpy as np\n",
    "\n",
    "def read_idx(filename):\n",
    "    with open(filename, 'rb') as f:\n",
    "        zero, data_type, dims = struct.unpack('>HBB', f.read(4))\n",
    "        shape = tuple(struct.unpack('>I', f.read(4))[0] for d in range(dims))\n",
    "        return np.fromstring(f.read(), dtype=np.uint8).reshape(shape)\n",
    "    \n",
    "train_set = read_idx('train-images-idx3-ubyte.mat')\n",
    "print(train_set.shape)\n",
    "train_label = read_idx('train-labels-idx1-ubyte.mat')\n",
    "train_label = np.expand_dims(train_label, axis=1)\n",
    "print(train_label.shape)\n",
    "\n",
    "test_set = read_idx('t10k-images-idx3-ubyte.mat')\n",
    "print(test_set.shape)\n",
    "test_label = read_idx('t10k-labels-idx1-ubyte.mat')\n",
    "test_label = np.expand_dims(test_label, axis=1)\n",
    "print(test_label.shape)\n",
    "n_train = train_set.shape[0]\n",
    "n_test = test_set.shape[0]\n"
   ]
  },
  {
   "cell_type": "code",
   "execution_count": 3,
   "metadata": {},
   "outputs": [],
   "source": [
    "def one_hot(labels):\n",
    "    \"\"\"\n",
    "    Encodes the labels as one-hot vectors. Zero is represented as 10 in SVHN.\n",
    "    [10] -> [1, 0, 0, 0, 0, 0, 0, 0, 0, 0]\n",
    "    [2] -> [0, 0, 1, 0, 0, 0, 0, 0, 0, 0]\n",
    "    \n",
    "    \"\"\"\n",
    "    labels = np.squeeze(labels)\n",
    "    one_hot_labels = []\n",
    "    for num in labels:\n",
    "        one_hot = [0.0] * 10\n",
    "        if num == 10:\n",
    "            one_hot[0] = 1.0\n",
    "        else:\n",
    "            one_hot[num] = 1.0\n",
    "        one_hot_labels.append(one_hot)\n",
    "    labels = np.array(one_hot_labels).astype(np.float32)\n",
    "    return labels"
   ]
  },
  {
   "cell_type": "code",
   "execution_count": 4,
   "metadata": {},
   "outputs": [
    {
     "name": "stdout",
     "output_type": "stream",
     "text": [
      "(60000, 10)\n",
      "(10000, 10)\n"
     ]
    }
   ],
   "source": [
    "train_label_one_hot = one_hot(train_label)\n",
    "test_label_one_hot = one_hot(test_label)\n",
    "\n",
    "\n",
    "print(train_label_one_hot.shape)\n",
    "print(test_label_one_hot.shape)"
   ]
  },
  {
   "cell_type": "code",
   "execution_count": 6,
   "metadata": {},
   "outputs": [],
   "source": [
    "class SVHN_MLP:\n",
    "    def __init__(self, wd_factor, learning_rate):\n",
    "        self.wd_factor = wd_factor\n",
    "        self.learning_rate = learning_rate\n",
    "        self.train_pointer = 0\n",
    "        self.test_pointer = 0\n",
    "        \n",
    "        self.sess = tf.Session() #open session which need to be closed later\n",
    "        \n",
    "        self.input = tf.placeholder(dtype=tf.float32, shape=[None, 784], name='input')\n",
    "        self.ground_truth = tf.placeholder(dtype=tf.float32, shape=[None, 10], name='ground_truth')\n",
    "        print(self.input)\n",
    "        \n",
    "        self._build_graph()\n",
    "        \n",
    "    def _build_graph(self):\n",
    "        weights = []  # for weight decay\n",
    "        \n",
    "        with tf.variable_scope('layers'):\n",
    "            h = tf.layers.dense(self.input, 512, kernel_initializer=tf.glorot_uniform_initializer(), \n",
    "                                activation=tf.tanh, name='1')\n",
    "            print(h)\n",
    "            h = tf.layers.dense(h, 256, kernel_initializer=tf.glorot_uniform_initializer(), \n",
    "                                activation=tf.tanh, name='2')\n",
    "            print(h)\n",
    "            h = tf.layers.dense(h, 64, kernel_initializer=tf.glorot_uniform_initializer(), \n",
    "                                activation=tf.tanh, name='3')\n",
    "            print(h)\n",
    "            self.logits = tf.layers.dense(h, 10, kernel_initializer=tf.glorot_uniform_initializer(), \n",
    "                                          activation=tf.identity, name='4')\n",
    "            print(self.logits)\n",
    "            self.prediction = tf.nn.softmax(self.logits, name='softmax_prediction')\n",
    "            \n",
    "        with tf.name_scope('loss'):\n",
    "            self.loss = tf.reduce_mean(tf.nn.softmax_cross_entropy_with_logits_v2(logits=self.logits, \n",
    "                                                                                  labels=self.ground_truth))\n",
    "            self.loss += self.weight_decay()\n",
    "            \n",
    "        self.optimizer = tf.train.AdamOptimizer(self.learning_rate)\n",
    "        self.train_op = self.optimizer.minimize(self.loss)\n",
    "            \n",
    "    def weight_decay(self):\n",
    "        loss = 0\n",
    "        for v in tf.global_variables():\n",
    "            if 'Adam' in v.name:\n",
    "                continue\n",
    "            elif 'kernel' in v.name:\n",
    "                loss += self.wd_factor * tf.nn.l2_loss(v)\n",
    "        print(loss)\n",
    "        return loss\n",
    "    \n",
    "    def train_minibatch(self, samples, labels, batch_size):\n",
    "        if self.train_pointer + batch_size <= samples.shape[0]:\n",
    "            samples_minibatch = samples[self.train_pointer: self.train_pointer + batch_size]\n",
    "            labels_minibatch = labels[self.train_pointer: self.train_pointer + batch_size]\n",
    "            self.train_pointer += batch_size\n",
    "        else:\n",
    "            samples_minibatch = samples[self.train_pointer:]\n",
    "            labels_minibatch = labels[self.train_pointer: self.train_pointer + batch_size]\n",
    "            self.train_pointer = 0\n",
    "        return samples_minibatch, labels_minibatch\n",
    "\n",
    "    def train(self, train_samples, train_labels, train_batch_size, iteration_steps):\n",
    "        self.sess.run(tf.global_variables_initializer())\n",
    "\n",
    "        print('Start Training')\n",
    "        losses = []\n",
    "        for i in range(iteration_steps):\n",
    "            samples, labels = self.train_minibatch(train_samples, train_labels, train_batch_size)\n",
    "            feed_dict = {self.input: samples, self.ground_truth: labels}\n",
    "            _, loss = self.sess.run([self.train_op, self.loss], feed_dict=feed_dict)\n",
    "            if i % 50 == 0:\n",
    "                print(\"Minibatch loss at step {}: {}\".format(i, loss))\n",
    "                losses.append([i, loss])\n",
    "        return losses\n",
    "                    \n",
    "    def test_minibatch(self, samples, labels, batch_size):\n",
    "        if self.test_pointer + batch_size <= samples.shape[0]:\n",
    "            samples_minibatch = samples[self.test_pointer: self.test_pointer + batch_size]\n",
    "            labels_minibatch = labels[self.test_pointer: self.test_pointer + batch_size]\n",
    "            self.test_pointer += batch_size\n",
    "            end_of_epoch = False\n",
    "        else:\n",
    "            samples_minibatch = samples[self.test_pointer:]\n",
    "            labels_minibatch = labels[self.test_pointer: self.test_pointer + batch_size]\n",
    "            self.test_pointer = 0\n",
    "            end_of_epoch = True\n",
    "        return samples_minibatch, labels_minibatch, end_of_epoch\n",
    "            \n",
    "    def test(self, test_samples, test_labels, test_batch_size):\n",
    "        end_of_epoch = False\n",
    "        losses = []\n",
    "        while not end_of_epoch:\n",
    "            samples, labels, end_of_epoch = self.test_minibatch(test_samples, test_labels, test_batch_size)\n",
    "            feed_dict = {self.input: samples, self.ground_truth: labels}\n",
    "            losses.append(self.sess.run(self.loss, feed_dict=feed_dict))  \n",
    "        print(\"Average test loss: {}\".format(np.mean(losses)))"
   ]
  },
  {
   "cell_type": "code",
   "execution_count": 7,
   "metadata": {},
   "outputs": [
    {
     "name": "stdout",
     "output_type": "stream",
     "text": [
      "Tensor(\"input:0\", shape=(?, 784), dtype=float32)\n",
      "Tensor(\"layers/1/Tanh:0\", shape=(?, 512), dtype=float32)\n",
      "Tensor(\"layers/2/Tanh:0\", shape=(?, 256), dtype=float32)\n",
      "Tensor(\"layers/3/Tanh:0\", shape=(?, 64), dtype=float32)\n",
      "Tensor(\"layers/4/Identity:0\", shape=(?, 10), dtype=float32)\n",
      "Tensor(\"loss/add_3:0\", shape=(), dtype=float32)\n"
     ]
    }
   ],
   "source": [
    "WD_FACTOR = 0.0001\n",
    "LEARNING_RATE = 0.001\n",
    "model = SVHN_MLP(WD_FACTOR, LEARNING_RATE)"
   ]
  },
  {
   "cell_type": "code",
   "execution_count": 8,
   "metadata": {},
   "outputs": [
    {
     "data": {
      "text/plain": [
       "[<tf.Variable 'layers/1/kernel:0' shape=(784, 512) dtype=float32_ref>,\n",
       " <tf.Variable 'layers/1/bias:0' shape=(512,) dtype=float32_ref>,\n",
       " <tf.Variable 'layers/2/kernel:0' shape=(512, 256) dtype=float32_ref>,\n",
       " <tf.Variable 'layers/2/bias:0' shape=(256,) dtype=float32_ref>,\n",
       " <tf.Variable 'layers/3/kernel:0' shape=(256, 64) dtype=float32_ref>,\n",
       " <tf.Variable 'layers/3/bias:0' shape=(64,) dtype=float32_ref>,\n",
       " <tf.Variable 'layers/4/kernel:0' shape=(64, 10) dtype=float32_ref>,\n",
       " <tf.Variable 'layers/4/bias:0' shape=(10,) dtype=float32_ref>,\n",
       " <tf.Variable 'beta1_power:0' shape=() dtype=float32_ref>,\n",
       " <tf.Variable 'beta2_power:0' shape=() dtype=float32_ref>,\n",
       " <tf.Variable 'layers/1/kernel/Adam:0' shape=(784, 512) dtype=float32_ref>,\n",
       " <tf.Variable 'layers/1/kernel/Adam_1:0' shape=(784, 512) dtype=float32_ref>,\n",
       " <tf.Variable 'layers/1/bias/Adam:0' shape=(512,) dtype=float32_ref>,\n",
       " <tf.Variable 'layers/1/bias/Adam_1:0' shape=(512,) dtype=float32_ref>,\n",
       " <tf.Variable 'layers/2/kernel/Adam:0' shape=(512, 256) dtype=float32_ref>,\n",
       " <tf.Variable 'layers/2/kernel/Adam_1:0' shape=(512, 256) dtype=float32_ref>,\n",
       " <tf.Variable 'layers/2/bias/Adam:0' shape=(256,) dtype=float32_ref>,\n",
       " <tf.Variable 'layers/2/bias/Adam_1:0' shape=(256,) dtype=float32_ref>,\n",
       " <tf.Variable 'layers/3/kernel/Adam:0' shape=(256, 64) dtype=float32_ref>,\n",
       " <tf.Variable 'layers/3/kernel/Adam_1:0' shape=(256, 64) dtype=float32_ref>,\n",
       " <tf.Variable 'layers/3/bias/Adam:0' shape=(64,) dtype=float32_ref>,\n",
       " <tf.Variable 'layers/3/bias/Adam_1:0' shape=(64,) dtype=float32_ref>,\n",
       " <tf.Variable 'layers/4/kernel/Adam:0' shape=(64, 10) dtype=float32_ref>,\n",
       " <tf.Variable 'layers/4/kernel/Adam_1:0' shape=(64, 10) dtype=float32_ref>,\n",
       " <tf.Variable 'layers/4/bias/Adam:0' shape=(10,) dtype=float32_ref>,\n",
       " <tf.Variable 'layers/4/bias/Adam_1:0' shape=(10,) dtype=float32_ref>]"
      ]
     },
     "execution_count": 8,
     "metadata": {},
     "output_type": "execute_result"
    }
   ],
   "source": [
    "tf.global_variables()"
   ]
  },
  {
   "cell_type": "code",
   "execution_count": 9,
   "metadata": {},
   "outputs": [
    {
     "name": "stdout",
     "output_type": "stream",
     "text": [
      "Start Training\n",
      "Minibatch loss at step 0: 2.702282667160034\n",
      "Minibatch loss at step 50: 0.44658398628234863\n",
      "Minibatch loss at step 100: 0.4284670650959015\n",
      "Minibatch loss at step 150: 0.35804522037506104\n",
      "Minibatch loss at step 200: 0.3786954879760742\n",
      "Minibatch loss at step 250: 0.4471348524093628\n",
      "Minibatch loss at step 300: 0.3881988227367401\n",
      "Minibatch loss at step 350: 0.48940616846084595\n",
      "Minibatch loss at step 400: 0.5326048135757446\n",
      "Minibatch loss at step 450: 0.4276096522808075\n",
      "Minibatch loss at step 500: 0.37688133120536804\n",
      "Minibatch loss at step 550: 0.2934891879558563\n",
      "Minibatch loss at step 600: 0.3498244285583496\n",
      "Minibatch loss at step 650: 0.2897154986858368\n",
      "Minibatch loss at step 700: 0.3381035625934601\n",
      "Minibatch loss at step 750: 0.35911548137664795\n",
      "Minibatch loss at step 800: 0.48753461241722107\n",
      "Minibatch loss at step 850: 0.2186792939901352\n",
      "Minibatch loss at step 900: 0.43422621488571167\n",
      "Minibatch loss at step 950: 0.294033408164978\n",
      "Minibatch loss at step 1000: 0.35991424322128296\n",
      "Minibatch loss at step 1050: 0.42576611042022705\n",
      "Minibatch loss at step 1100: 0.344778448343277\n",
      "Minibatch loss at step 1150: 0.4715650677680969\n",
      "Minibatch loss at step 1200: 0.2557986378669739\n",
      "Minibatch loss at step 1250: 0.44986122846603394\n",
      "Minibatch loss at step 1300: 0.49091848731040955\n",
      "Minibatch loss at step 1350: 0.44261202216148376\n",
      "Minibatch loss at step 1400: 0.19747856259346008\n",
      "Minibatch loss at step 1450: 0.33458346128463745\n",
      "Minibatch loss at step 1500: 0.33290284872055054\n",
      "Minibatch loss at step 1550: 0.30020806193351746\n",
      "Minibatch loss at step 1600: 0.456722229719162\n",
      "Minibatch loss at step 1650: 0.347526490688324\n",
      "Minibatch loss at step 1700: 0.3372188210487366\n",
      "Minibatch loss at step 1750: 0.33991947770118713\n",
      "Minibatch loss at step 1800: 0.5052986741065979\n",
      "Minibatch loss at step 1850: 0.23611174523830414\n",
      "Minibatch loss at step 1900: 0.13148269057273865\n",
      "Minibatch loss at step 1950: 0.29632148146629333\n",
      "Minibatch loss at step 2000: 0.3465539515018463\n",
      "Minibatch loss at step 2050: 0.30525344610214233\n",
      "Minibatch loss at step 2100: 0.24075870215892792\n",
      "Minibatch loss at step 2150: 0.2171972095966339\n",
      "Minibatch loss at step 2200: 0.32248371839523315\n",
      "Minibatch loss at step 2250: 0.3246830403804779\n",
      "Minibatch loss at step 2300: 0.27715033292770386\n",
      "Minibatch loss at step 2350: 0.35753488540649414\n",
      "Minibatch loss at step 2400: 0.19143317639827728\n",
      "Minibatch loss at step 2450: 0.28260648250579834\n",
      "Minibatch loss at step 2500: 0.26853498816490173\n",
      "Minibatch loss at step 2550: 0.4089805781841278\n",
      "Minibatch loss at step 2600: 0.3318789005279541\n",
      "Minibatch loss at step 2650: 0.18439319729804993\n",
      "Minibatch loss at step 2700: 0.3402460813522339\n",
      "Minibatch loss at step 2750: 0.20246022939682007\n",
      "Minibatch loss at step 2800: 0.15478457510471344\n",
      "Minibatch loss at step 2850: 0.28817135095596313\n",
      "Minibatch loss at step 2900: 0.3327670991420746\n",
      "Minibatch loss at step 2950: 0.2373102307319641\n",
      "Minibatch loss at step 3000: 0.33253201842308044\n",
      "Minibatch loss at step 3050: 0.19124586880207062\n",
      "Minibatch loss at step 3100: 0.2154269516468048\n",
      "Minibatch loss at step 3150: 0.3932379186153412\n",
      "Minibatch loss at step 3200: 0.38737189769744873\n",
      "Minibatch loss at step 3250: 0.29866307973861694\n",
      "Minibatch loss at step 3300: 0.22818586230278015\n",
      "Minibatch loss at step 3350: 0.26575109362602234\n",
      "Minibatch loss at step 3400: 0.16442722082138062\n",
      "Minibatch loss at step 3450: 0.214666485786438\n",
      "Minibatch loss at step 3500: 0.33592820167541504\n",
      "Minibatch loss at step 3550: 0.10991103202104568\n",
      "Minibatch loss at step 3600: 0.34299996495246887\n",
      "Minibatch loss at step 3650: 0.24880163371562958\n",
      "Minibatch loss at step 3700: 0.3009692430496216\n",
      "Minibatch loss at step 3750: 0.1552446484565735\n",
      "Minibatch loss at step 3800: 0.2691309154033661\n",
      "Minibatch loss at step 3850: 0.4762921929359436\n",
      "Minibatch loss at step 3900: 0.17628788948059082\n",
      "Minibatch loss at step 3950: 0.1977042853832245\n",
      "Minibatch loss at step 4000: 0.28491947054862976\n",
      "Minibatch loss at step 4050: 0.19840139150619507\n",
      "Minibatch loss at step 4100: 0.17237822711467743\n",
      "Minibatch loss at step 4150: 0.13538210093975067\n",
      "Minibatch loss at step 4200: 0.22199222445487976\n",
      "Minibatch loss at step 4250: 0.24521595239639282\n",
      "Minibatch loss at step 4300: 0.30655452609062195\n",
      "Minibatch loss at step 4350: 0.2763826847076416\n",
      "Minibatch loss at step 4400: 0.22901341319084167\n",
      "Minibatch loss at step 4450: 0.28579413890838623\n",
      "Minibatch loss at step 4500: 0.1704612672328949\n",
      "Minibatch loss at step 4550: 0.2983121871948242\n",
      "Minibatch loss at step 4600: 0.3002444803714752\n",
      "Minibatch loss at step 4650: 0.2929738759994507\n",
      "Minibatch loss at step 4700: 0.36508095264434814\n",
      "Minibatch loss at step 4750: 0.22404807806015015\n",
      "Minibatch loss at step 4800: 0.21079614758491516\n",
      "Minibatch loss at step 4850: 0.3391246795654297\n",
      "Minibatch loss at step 4900: 0.32522502541542053\n",
      "Minibatch loss at step 4950: 0.29249659180641174\n",
      "Minibatch loss at step 5000: 0.2737196683883667\n",
      "Minibatch loss at step 5050: 0.3036162853240967\n",
      "Minibatch loss at step 5100: 0.19410625100135803\n",
      "Minibatch loss at step 5150: 0.1323399543762207\n",
      "Minibatch loss at step 5200: 0.2566010355949402\n",
      "Minibatch loss at step 5250: 0.33150890469551086\n",
      "Minibatch loss at step 5300: 0.14726588129997253\n",
      "Minibatch loss at step 5350: 0.30039823055267334\n",
      "Minibatch loss at step 5400: 0.36217203736305237\n",
      "Minibatch loss at step 5450: 0.3153897821903229\n",
      "Minibatch loss at step 5500: 0.3174753785133362\n",
      "Minibatch loss at step 5550: 0.20157651603221893\n",
      "Minibatch loss at step 5600: 0.2543807625770569\n",
      "Minibatch loss at step 5650: 0.19920173287391663\n",
      "Minibatch loss at step 5700: 0.2417052984237671\n",
      "Minibatch loss at step 5750: 0.312045156955719\n",
      "Minibatch loss at step 5800: 0.20892734825611115\n",
      "Minibatch loss at step 5850: 0.22056522965431213\n",
      "Minibatch loss at step 5900: 0.41081851720809937\n",
      "Minibatch loss at step 5950: 0.39644795656204224\n",
      "Minibatch loss at step 6000: 0.24633896350860596\n",
      "Minibatch loss at step 6050: 0.2240239381790161\n",
      "Minibatch loss at step 6100: 0.2967104911804199\n",
      "Minibatch loss at step 6150: 0.35819515585899353\n",
      "Minibatch loss at step 6200: 0.2274320274591446\n",
      "Minibatch loss at step 6250: 0.24575941264629364\n",
      "Minibatch loss at step 6300: 0.2052619755268097\n",
      "Minibatch loss at step 6350: 0.4052024185657501\n",
      "Minibatch loss at step 6400: 0.17581132054328918\n",
      "Minibatch loss at step 6450: 0.22036102414131165\n",
      "Minibatch loss at step 6500: 0.20389686524868011\n",
      "Minibatch loss at step 6550: 0.22355376183986664\n",
      "Minibatch loss at step 6600: 0.17742666602134705\n",
      "Minibatch loss at step 6650: 0.27149099111557007\n",
      "Minibatch loss at step 6700: 0.24738061428070068\n",
      "Minibatch loss at step 6750: 0.2571015954017639\n",
      "Minibatch loss at step 6800: 0.2582685947418213\n",
      "Minibatch loss at step 6850: 0.22369375824928284\n",
      "Minibatch loss at step 6900: 0.337369829416275\n",
      "Minibatch loss at step 6950: 0.2570430338382721\n",
      "Minibatch loss at step 7000: 0.15384775400161743\n",
      "Minibatch loss at step 7050: 0.21000438928604126\n",
      "Minibatch loss at step 7100: 0.18675898015499115\n",
      "Minibatch loss at step 7150: 0.3755742907524109\n",
      "Minibatch loss at step 7200: 0.19024059176445007\n",
      "Minibatch loss at step 7250: 0.19472187757492065\n",
      "Minibatch loss at step 7300: 0.1843510866165161\n",
      "Minibatch loss at step 7350: 0.2290239930152893\n",
      "Minibatch loss at step 7400: 0.35239940881729126\n",
      "Minibatch loss at step 7450: 0.3166884779930115\n",
      "Minibatch loss at step 7500: 0.12520430982112885\n",
      "Minibatch loss at step 7550: 0.17723414301872253\n",
      "Minibatch loss at step 7600: 0.276801198720932\n",
      "Minibatch loss at step 7650: 0.18758521974086761\n",
      "Minibatch loss at step 7700: 0.2893604338169098\n",
      "Minibatch loss at step 7750: 0.32958006858825684\n",
      "Minibatch loss at step 7800: 0.24034255743026733\n",
      "Minibatch loss at step 7850: 0.22226274013519287\n",
      "Minibatch loss at step 7900: 0.3978656232357025\n",
      "Minibatch loss at step 7950: 0.15681326389312744\n",
      "Minibatch loss at step 8000: 0.24610522389411926\n",
      "Minibatch loss at step 8050: 0.15753290057182312\n",
      "Minibatch loss at step 8100: 0.2251596450805664\n",
      "Minibatch loss at step 8150: 0.3652889132499695\n",
      "Minibatch loss at step 8200: 0.2928575277328491\n",
      "Minibatch loss at step 8250: 0.23117908835411072\n",
      "Minibatch loss at step 8300: 0.2151215374469757\n",
      "Minibatch loss at step 8350: 0.39121174812316895\n",
      "Minibatch loss at step 8400: 0.24095851182937622\n"
     ]
    },
    {
     "name": "stdout",
     "output_type": "stream",
     "text": [
      "Minibatch loss at step 8450: 0.4191369116306305\n",
      "Minibatch loss at step 8500: 0.3971833288669586\n",
      "Minibatch loss at step 8550: 0.2810768783092499\n",
      "Minibatch loss at step 8600: 0.2499244213104248\n",
      "Minibatch loss at step 8650: 0.5365243554115295\n",
      "Minibatch loss at step 8700: 0.24666738510131836\n",
      "Minibatch loss at step 8750: 0.23073720932006836\n",
      "Minibatch loss at step 8800: 0.3109894096851349\n",
      "Minibatch loss at step 8850: 0.23334896564483643\n",
      "Minibatch loss at step 8900: 0.21024471521377563\n",
      "Minibatch loss at step 8950: 0.19578462839126587\n",
      "Minibatch loss at step 9000: 0.23969770967960358\n",
      "Minibatch loss at step 9050: 0.2628476321697235\n",
      "Minibatch loss at step 9100: 0.37376469373703003\n",
      "Minibatch loss at step 9150: 0.266936719417572\n",
      "Minibatch loss at step 9200: 0.3849117159843445\n",
      "Minibatch loss at step 9250: 0.19202613830566406\n",
      "Minibatch loss at step 9300: 0.26308703422546387\n",
      "Minibatch loss at step 9350: 0.29862749576568604\n",
      "Minibatch loss at step 9400: 0.2153506875038147\n",
      "Minibatch loss at step 9450: 0.21696120500564575\n",
      "Minibatch loss at step 9500: 0.21200013160705566\n",
      "Minibatch loss at step 9550: 0.13910315930843353\n",
      "Minibatch loss at step 9600: 0.19992533326148987\n",
      "Minibatch loss at step 9650: 0.27679723501205444\n",
      "Minibatch loss at step 9700: 0.23060022294521332\n",
      "Minibatch loss at step 9750: 0.4487019181251526\n",
      "Minibatch loss at step 9800: 0.14945869147777557\n",
      "Minibatch loss at step 9850: 0.27597296237945557\n",
      "Minibatch loss at step 9900: 0.14514976739883423\n",
      "Minibatch loss at step 9950: 0.20844686031341553\n",
      "Training time: 92.4318630695343s\n"
     ]
    }
   ],
   "source": [
    "TRAIN_BATCH_SIZE = 128\n",
    "ITERATIONS = 10000\n",
    "\n",
    "import time\n",
    "start_time = time.time()\n",
    "\n",
    "losses = model.train(train_set_flat, train_label_one_hot, TRAIN_BATCH_SIZE, ITERATIONS)\n",
    "\n",
    "end_time = time.time()\n",
    "print(\"Training time: {}s\".format(end_time - start_time))"
   ]
  },
  {
   "cell_type": "code",
   "execution_count": 10,
   "metadata": {},
   "outputs": [
    {
     "name": "stdout",
     "output_type": "stream",
     "text": [
      "(200, 2)\n"
     ]
    }
   ],
   "source": [
    "losses = np.array(losses)\n",
    "print(losses.shape)"
   ]
  },
  {
   "cell_type": "code",
   "execution_count": 12,
   "metadata": {},
   "outputs": [
    {
     "data": {
      "image/png": "[encoded data removed]",
      "text/plain": [
       "<Figure size 720x360 with 1 Axes>"
      ]
     },
     "metadata": {
      "needs_background": "light"
     },
     "output_type": "display_data"
    }
   ],
   "source": [
    "import matplotlib.pyplot as plt\n",
    "\n",
    "iterations = losses[:, 0]\n",
    "train_loss = losses[:, 1]\n",
    "plt.figure(figsize=(10, 5))\n",
    "plt.plot(iterations, train_loss)\n",
    "plt.xlabel(\"Iterations\")\n",
    "plt.ylabel(\"Loss\")\n",
    "plt.title(\"Training curve\")\n",
    "plt.show()"
   ]
  },
  {
   "cell_type": "code",
   "execution_count": 13,
   "metadata": {},
   "outputs": [
    {
     "name": "stdout",
     "output_type": "stream",
     "text": [
      "Average test loss: 0.24835851788520813\n"
     ]
    }
   ],
   "source": [
    "TEST_BATCH_SIZE = 128\n",
    "\n",
    "model.test(test_set_flat, test_label_one_hot, TEST_BATCH_SIZE)"
   ]
  },
  {
   "cell_type": "code",
   "execution_count": 43,
   "metadata": {
    "scrolled": true
   },
   "outputs": [
    {
     "name": "stdout",
     "output_type": "stream",
     "text": [
      "Test sample digit: 4\n"
     ]
    },
    {
     "data": {
      "image/png": "[encoded data removed]",
      "text/plain": [
       "<Figure size 1224x360 with 2 Axes>"
      ]
     },
     "metadata": {
      "needs_background": "light"
     },
     "output_type": "display_data"
    },
    {
     "name": "stdout",
     "output_type": "stream",
     "text": [
      "Network prediction probabilities:\n",
      "[5.3111033e-04 1.3125176e-06 4.5174954e-04 4.0939463e-05 9.8924023e-01\n",
      " 9.5570147e-05 9.4148330e-04 6.7149711e-05 2.0632856e-04 8.4240958e-03]\n"
     ]
    }
   ],
   "source": [
    "example = np.random.choice(np.arange(n_test))\n",
    "\n",
    "sample = np.expand_dims(test_set_flat[example], axis=0)\n",
    "label = np.expand_dims(test_label_one_hot[example], axis=0)\n",
    "\n",
    "digit = np.where(label[0]==1.0)[0][0]\n",
    "\n",
    "feed_dict = {model.input: sample, model.ground_truth: label}\n",
    "prediction = model.sess.run(model.prediction, feed_dict=feed_dict)[0]\n",
    "\n",
    "image = np.reshape(sample, (28, 28))\n",
    "\n",
    "print(\"Test sample digit: {}\".format(digit))\n",
    "fig, ax = plt.subplots(1, 2, figsize=(17, 5))\n",
    "ax[0].imshow(image, cmap='gray')\n",
    "ax[0].set_title(\"Test example\")\n",
    "\n",
    "classes = np.arange(10)\n",
    "width = 1.0\n",
    "\n",
    "#fig, ax = plt.subplots()\n",
    "ax[1].bar(classes, prediction, width, color='Blue')\n",
    "ax[1].set_ylabel('Probabilities')\n",
    "ax[1].set_title('Network categorical distribution')\n",
    "ax[1].set_xticks(classes)\n",
    "ax[1].set_xticklabels(('0', '1', '2', '3', '4', '5', '6', '7', '8', '9'))\n",
    "ax[1].set_xlabel('Digit class')\n",
    "\n",
    "plt.show()\n",
    "\n",
    "print(\"Network prediction probabilities:\")\n",
    "print(prediction)"
   ]
  },
  {
   "cell_type": "code",
   "execution_count": 2,
   "metadata": {},
   "outputs": [
    {
     "ename": "NameError",
     "evalue": "name 'end_time' is not defined",
     "output_type": "error",
     "traceback": [
      "\u001b[1;31m---------------------------------------------------------------------------\u001b[0m",
      "\u001b[1;31mNameError\u001b[0m                                 Traceback (most recent call last)",
      "\u001b[1;32m<ipython-input-2-85389895731b>\u001b[0m in \u001b[0;36m<module>\u001b[1;34m\u001b[0m\n\u001b[1;32m----> 1\u001b[1;33m \u001b[0mtrain_time\u001b[0m \u001b[1;33m=\u001b[0m \u001b[0mend_time\u001b[0m \u001b[1;33m-\u001b[0m \u001b[0mstart_time\u001b[0m\u001b[1;33m\u001b[0m\u001b[0m\n\u001b[0m\u001b[0;32m      2\u001b[0m \u001b[0mprint\u001b[0m\u001b[1;33m(\u001b[0m\u001b[1;34m'total training time :'\u001b[0m\u001b[1;33m,\u001b[0m \u001b[0mtrain_time\u001b[0m\u001b[1;33m,\u001b[0m \u001b[1;34m's, or '\u001b[0m\u001b[1;33m,\u001b[0m \u001b[0mint\u001b[0m\u001b[1;33m(\u001b[0m\u001b[0mtrain_time\u001b[0m\u001b[1;33m/\u001b[0m\u001b[1;36m60\u001b[0m\u001b[1;33m)\u001b[0m\u001b[1;33m,\u001b[0m \u001b[1;34m'min'\u001b[0m\u001b[1;33m,\u001b[0m \u001b[0mtrain_time\u001b[0m\u001b[1;33m%\u001b[0m\u001b[1;36m60\u001b[0m\u001b[1;33m,\u001b[0m \u001b[1;34m's'\u001b[0m \u001b[1;33m)\u001b[0m\u001b[1;33m\u001b[0m\u001b[0m\n\u001b[0;32m      3\u001b[0m \u001b[0mcount\u001b[0m \u001b[1;33m=\u001b[0m \u001b[0mlen\u001b[0m\u001b[1;33m(\u001b[0m\u001b[0mtf\u001b[0m\u001b[1;33m.\u001b[0m\u001b[0mglobal_variables\u001b[0m\u001b[1;33m(\u001b[0m\u001b[1;33m)\u001b[0m\u001b[1;33m)\u001b[0m\u001b[1;33m\u001b[0m\u001b[0m\n\u001b[0;32m      4\u001b[0m \u001b[0mprint\u001b[0m\u001b[1;33m(\u001b[0m\u001b[1;34m'total parameters involved :'\u001b[0m\u001b[1;33m,\u001b[0m \u001b[0mcount\u001b[0m\u001b[1;33m)\u001b[0m\u001b[1;33m\u001b[0m\u001b[0m\n",
      "\u001b[1;31mNameError\u001b[0m: name 'end_time' is not defined"
     ]
    }
   ],
   "source": [
    "train_time = end_time - start_time\n",
    "print('total training time :', train_time, 's, or ', int(train_time/60), 'min', train_time%60, 's' )\n",
    "count = len(tf.global_variables())\n",
    "print('total parameters involved :', count)"
   ]
  },
  {
   "cell_type": "code",
   "execution_count": null,
   "metadata": {},
   "outputs": [],
   "source": [
    "model.sess.close()"
   ]
  }
 ],
 "metadata": {
  "kernelspec": {
   "display_name": "Python 3",
   "language": "python",
   "name": "python3"
  },
  "language_info": {
   "codemirror_mode": {
    "name": "ipython",
    "version": 3
   },
   "file_extension": ".py",
   "mimetype": "text/x-python",
   "name": "python",
   "nbconvert_exporter": "python",
   "pygments_lexer": "ipython3",
   "version": "3.6.6"
  }
 },
 "nbformat": 4,
 "nbformat_minor": 2
}
