{
 "cells": [
  {
   "cell_type": "code",
   "execution_count": 5,
   "metadata": {},
   "outputs": [
    {
     "data": {
      "image/png": "[encoded data removed]",
      "text/plain": [
       "<Figure size 432x288 with 1 Axes>"
      ]
     },
     "metadata": {
      "needs_background": "light"
     },
     "output_type": "display_data"
    },
    {
     "name": "stdout",
     "output_type": "stream",
     "text": [
      "Let variable y to be Brth15to17 and x be PovPct \n",
      " then the solution to the linear regression is the following equation \n",
      " y = 1.3733453886953946 x + 4.267292842407471\n",
      "\n",
      " Let variable y to be Brth15to17, x be PovPct and z = ViolCrime \n",
      " then the solution to the linear regression is the following equation \n",
      " y = 1.0364996686653427 x + 0.34420732377088736 z + 5.982201328632726\n"
     ]
    },
    {
     "data": {
      "text/plain": [
       "<Figure size 432x288 with 0 Axes>"
      ]
     },
     "metadata": {},
     "output_type": "display_data"
    }
   ],
   "source": [
    "import tensorflow as tf\n",
    "import numpy as np\n",
    "import pandas as pd\n",
    "import pylab\n",
    "from matplotlib import pyplot as plt\n",
    "\n",
    "def load_file(file):\n",
    "    '''\n",
    "    The function - load_file(file) where file is the csv file containing data for several independent variable. \\\n",
    "    The function returns df (table containing data) and cols (headin gof each columns)\n",
    "    '''\n",
    "    df = pd.read_csv(file, delim_whitespace=True)\n",
    "    cols = list(df.columns.values)\n",
    "    return df, cols\n",
    "\n",
    "df,cols = load_file('poverty.txt')\n",
    "length = len(df['PovPct'])\n",
    "#placeholder for the matrix A for the linear regression\n",
    "A_plcholder = tf.placeholder(tf.float64, shape=(length,), name='input')\n",
    "\n",
    "\n",
    "feed_dict = {A_plcholder: df['PovPct']}\n",
    "with tf.Session() as sess:\n",
    "    init_op = tf.global_variables_initializer()\n",
    "    sess.run(init_op)\n",
    "    output1 = sess.run(A_plcholder, feed_dict=feed_dict)\n",
    "#add a column of ones to account for bias term\n",
    "A = np.column_stack((output1, [1 for i in range(length)]))\n",
    "\n",
    "b = tf.placeholder(tf.float64, shape=(length,), name='input')\n",
    "At = tf.matrix_transpose(A)\n",
    "AtA_inv = tf.matrix_inverse(tf.matmul(At,A))\n",
    "#solution of the linear regression in normal equation\n",
    "x_plc = tf.matmul(AtA_inv,tf.matmul(At,tf.expand_dims(b,axis=1)))\n",
    "feed_dict1 = {b: df['Brth15to17']}\n",
    "with tf.Session() as sess:\n",
    "    init_op = tf.global_variables_initializer()\n",
    "    sess.run(init_op)\n",
    "    x = sess.run(x_plc, feed_dict=feed_dict1)\n",
    "#print(x)\n",
    "    \n",
    "scatterx = list(df['PovPct'])\n",
    "scattery = list(df['Brth15to17'])\n",
    "plt.scatter(scatterx,scattery,)\n",
    "ploty = x[0]*scatterx + x[1]\n",
    "plt.plot(scatterx,ploty)\n",
    "plt.xlabel('\\'PovPct\\'')\n",
    "plt.ylabel('\\'Brth15to17\\'')\n",
    "plt.show()\n",
    "pylab.savefig('plot1_qn1.png')\n",
    "\n",
    "#report the solution\n",
    "print('Let variable y to be Brth15to17 and x be PovPct \\n \\\n",
    "then the solution to the linear regression is the following equation \\n \\\n",
    "y = {} x + {}'.format(float(x[0]),float(x[1])))\n",
    "\n",
    "#feed in another column of data\n",
    "feed_dict2 = {A_plcholder: df['ViolCrime']}\n",
    "with tf.Session() as sess:\n",
    "    init_op = tf.global_variables_initializer()\n",
    "    sess.run(init_op)\n",
    "    output2 = sess.run(A_plcholder, feed_dict=feed_dict2)\n",
    "A = np.column_stack((output1, output2, [1 for i in range(length)]))\n",
    "At = tf.matrix_transpose(A)\n",
    "AtA_inv = tf.matrix_inverse(tf.matmul(At,A))\n",
    "#solution of the linear regression in normal equation\n",
    "x_plc = tf.matmul(AtA_inv,tf.matmul(At,tf.expand_dims(b,axis=1)))\n",
    "with tf.Session() as sess:\n",
    "    init_op = tf.global_variables_initializer()\n",
    "    sess.run(init_op)\n",
    "    x = sess.run(x_plc, feed_dict=feed_dict1)\n",
    "#print(x)\n",
    "\n",
    "#report the solution for linear regression\n",
    "print('\\n Let variable y to be Brth15to17, x be PovPct and z = ViolCrime \\n \\\n",
    "then the solution to the linear regression is the following equation \\n \\\n",
    "y = {} x + {} z + {}'.format(float(x[0]),float(x[1]),float(x[2])))\n"
   ]
  }
 ],
 "metadata": {
  "kernelspec": {
   "display_name": "Python 3",
   "language": "python",
   "name": "python3"
  },
  "language_info": {
   "codemirror_mode": {
    "name": "ipython",
    "version": 3
   },
   "file_extension": ".py",
   "mimetype": "text/x-python",
   "name": "python",
   "nbconvert_exporter": "python",
   "pygments_lexer": "ipython3",
   "version": "3.6.6"
  }
 },
 "nbformat": 4,
 "nbformat_minor": 2
}
