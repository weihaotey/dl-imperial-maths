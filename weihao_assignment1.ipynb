{
  "nbformat": 4,
  "nbformat_minor": 0,
  "metadata": {
    "colab": {
      "name": "weihao_assignment1.ipynb",
      "version": "0.3.2",
      "provenance": []
    },
    "kernelspec": {
      "display_name": "Python 3",
      "language": "python",
      "name": "python3"
    }
  },
  "cells": [
    {
      "metadata": {
        "id": "PTZu6hZ8NFrW",
        "colab_type": "text"
      },
      "cell_type": "markdown",
      "source": [
        "#Assignment 1"
      ]
    },
    {
      "metadata": {
        "id": "ROtK0KYqCqAo",
        "colab_type": "code",
        "outputId": "60076ed3-e294-4ffb-d8b1-bed503e018f5",
        "colab": {
          "base_uri": "https://localhost:8080/",
          "height": 514
        }
      },
      "cell_type": "code",
      "source": [
        "import tensorflow as tf\n",
        "import numpy as np\n",
        "import pandas as pd\n",
        "import pylab\n",
        "from matplotlib import pyplot as plt\n",
        "\n",
        "def load_file(file):\n",
        "    '''\n",
        "    The function - load_file(file) where file is the csv file containing data for several independent variable. \\\n",
        "    The function returns df (table containing data) and cols (heading of each columns)\n",
        "    '''\n",
        "    df = pd.read_csv(file, delim_whitespace=True)\n",
        "    cols = list(df.columns.values)\n",
        "    return df, cols\n",
        "\n",
        "df,cols = load_file('poverty.txt')\n",
        "length = len(df['PovPct'])\n",
        "\n",
        "#placeholder for the matrix A for the linear regression\n",
        "A_plcholder = tf.placeholder(tf.float64, shape=(length,), name='input')\n",
        "\n",
        "\n",
        "feed_dict = {A_plcholder: df['PovPct']}\n",
        "with tf.Session() as sess:\n",
        "    init_op = tf.global_variables_initializer()\n",
        "    sess.run(init_op)\n",
        "    output1 = sess.run(A_plcholder, feed_dict=feed_dict)\n",
        "    \n",
        "#add a column of ones to account for bias term\n",
        "A = np.column_stack((output1, [1 for i in range(length)]))\n",
        "\n",
        "b = tf.placeholder(tf.float64, shape=(length,), name='input')\n",
        "print('shape of b:',b.shape)\n",
        "At = tf.matrix_transpose(A)\n",
        "AtA_inv = tf.matrix_inverse(tf.matmul(At,A))\n",
        "\n",
        "#solution of the linear regression in normal equation\n",
        "x_plc = tf.matmul(AtA_inv,tf.matmul(At,tf.expand_dims(b,axis=1)))\n",
        "print('shape of x_plx:',x_plc.shape)\n",
        "\n",
        "#run the session\n",
        "feed_dict1 = {b: df['Brth15to17']}\n",
        "with tf.Session() as sess:\n",
        "    init_op = tf.global_variables_initializer()\n",
        "    sess.run(init_op)\n",
        "    x = sess.run(x_plc, feed_dict=feed_dict1)\n",
        "#print(x)\n",
        "    \n",
        "scatterx = list(df['PovPct'])\n",
        "scattery = list(df['Brth15to17'])\n",
        "plt.scatter(scatterx,scattery,)\n",
        "ploty = x[0]*scatterx + x[1]\n",
        "plt.plot(scatterx,ploty)\n",
        "plt.xlabel('\\'PovPct\\'')\n",
        "plt.ylabel('\\'Brth15to17\\'')\n",
        "plt.savefig('plot1_qn1.png')\n",
        "plt.show()\n",
        "\n",
        "\n",
        "#report the solution\n",
        "print('Let variable y to be Brth15to17 and x be PovPct, \\n \\\n",
        "then the solution to the linear regression is the following equation \\n \\\n",
        "y = {} x + {}\\n'.format(float(x[0]),float(x[1])))\n",
        "\n",
        "#feed in another column of data\n",
        "feed_dict2 = {A_plcholder: df['ViolCrime']}\n",
        "with tf.Session() as sess:\n",
        "    init_op = tf.global_variables_initializer()\n",
        "    sess.run(init_op)\n",
        "    output2 = sess.run(A_plcholder, feed_dict=feed_dict2)\n",
        "A = np.column_stack((output1, output2, [1 for i in range(length)]))\n",
        "At = tf.matrix_transpose(A)\n",
        "AtA_inv = tf.matrix_inverse(tf.matmul(At,A))\n",
        "\n",
        "#solution of the linear regression in normal equation\n",
        "x_plc = tf.matmul(AtA_inv,tf.matmul(At,tf.expand_dims(b,axis=1)))\n",
        "with tf.Session() as sess:\n",
        "    init_op = tf.global_variables_initializer()\n",
        "    sess.run(init_op)\n",
        "    x = sess.run(x_plc, feed_dict=feed_dict1)\n",
        "#print(x)\n",
        "\n",
        "#report the solution for linear regression\n",
        "print('Let variable y to be Brth15to17, x be PovPct and z = ViolCrime, \\n \\\n",
        "then the solution to the linear regression is the following equation \\n \\\n",
        "y = {} x + {} z + {}'.format(float(x[0]),float(x[1]),float(x[2])))\n"
      ],
      "execution_count": 0,
      "outputs": [
        {
          "output_type": "stream",
          "text": [
            "shape of b: (51,)\n",
            "shape of x_plx: (2, 1)\n"
          ],
          "name": "stdout"
        },
        {
          "output_type": "display_data",
          "data": {
            "image/png": "[encoded data removed]",
            "text/plain": [
              "<matplotlib.figure.Figure at 0x7f96ae72dac8>"
            ]
          },
          "metadata": {
            "tags": []
          }
        },
        {
          "output_type": "stream",
          "text": [
            "Let variable y to be Brth15to17 and x be PovPct, \n",
            " then the solution to the linear regression is the following equation \n",
            " y = 1.373345388695392 x + 4.267292842407507\n",
            "\n",
            "Let variable y to be Brth15to17, x be PovPct and z = ViolCrime, \n",
            " then the solution to the linear regression is the following equation \n",
            " y = 1.036499668665339 x + 0.3442073237708904 z + 5.982201328632802\n"
          ],
          "name": "stdout"
        }
      ]
    }
  ]
}