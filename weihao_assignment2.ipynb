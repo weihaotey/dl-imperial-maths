{
 "cells": [
  {
   "cell_type": "markdown",
   "metadata": {},
   "source": [
    "# Assignment 2"
   ]
  },
  {
   "cell_type": "code",
   "execution_count": 2,
   "metadata": {},
   "outputs": [],
   "source": [
    "import tensorflow as tf\n",
    "#from scipy.io import loadmat"
   ]
  },
  {
   "cell_type": "code",
   "execution_count": 3,
   "metadata": {},
   "outputs": [
    {
     "name": "stderr",
     "output_type": "stream",
     "text": [
      "C:\\Users\\User\\Anaconda3\\envs\\tensorflow_env\\lib\\site-packages\\ipykernel_launcher.py:10: DeprecationWarning: The binary mode of fromstring is deprecated, as it behaves surprisingly on unicode inputs. Use frombuffer instead\n",
      "  # Remove the CWD from sys.path while we load stuff.\n"
     ]
    },
    {
     "name": "stdout",
     "output_type": "stream",
     "text": [
      "(60000, 28, 28)\n",
      "(60000, 1)\n",
      "(10000, 28, 28)\n",
      "(10000, 1)\n"
     ]
    }
   ],
   "source": [
    "import struct\n",
    "\n",
    "import numpy as np\n",
    "\n",
    "def read_idx(filename):\n",
    "    '''A function to read idx file format into numpy array'''\n",
    "    with open(filename, 'rb') as f:\n",
    "        zero, data_type, dims = struct.unpack('>HBB', f.read(4))\n",
    "        shape = tuple(struct.unpack('>I', f.read(4))[0] for d in range(dims))\n",
    "        return np.fromstring(f.read(), dtype=np.uint8).reshape(shape)\n",
    "    \n",
    "train_set = read_idx('train-images-idx3-ubyte.mat')\n",
    "print(train_set.shape)\n",
    "train_label = read_idx('train-labels-idx1-ubyte.mat')\n",
    "train_label = np.expand_dims(train_label, axis=1)\n",
    "print(train_label.shape)\n",
    "\n",
    "test_set = read_idx('t10k-images-idx3-ubyte.mat')\n",
    "print(test_set.shape)\n",
    "test_label = read_idx('t10k-labels-idx1-ubyte.mat')\n",
    "test_label = np.expand_dims(test_label, axis=1)\n",
    "print(test_label.shape)\n",
    "n_train = train_set.shape[0]\n",
    "n_test = test_set.shape[0]\n"
   ]
  },
  {
   "cell_type": "code",
   "execution_count": 4,
   "metadata": {},
   "outputs": [
    {
     "name": "stdout",
     "output_type": "stream",
     "text": [
      "(60000, 784)\n",
      "(10000, 784)\n"
     ]
    }
   ],
   "source": [
    "#flatten the input to feed into MLP\n",
    "train_set_flat = train_set.reshape((n_train, -1)) #reshape the data to n_train row, -1 is unspecified so that code decide on their own\n",
    "test_set_flat = test_set.reshape((n_test, -1))\n",
    "\n",
    "print(train_set_flat.shape)\n",
    "print(test_set_flat.shape)"
   ]
  },
  {
   "cell_type": "code",
   "execution_count": 5,
   "metadata": {},
   "outputs": [],
   "source": [
    "def one_hot(labels):\n",
    "    \"\"\"\n",
    "    Encodes the labels as one-hot vectors. Zero is represented as 10 in SVHN.\n",
    "    [10] -> [1, 0, 0, 0, 0, 0, 0, 0, 0, 0]\n",
    "    [2] -> [0, 0, 1, 0, 0, 0, 0, 0, 0, 0]\n",
    "    \n",
    "    \"\"\"\n",
    "    labels = np.squeeze(labels)\n",
    "    one_hot_labels = []\n",
    "    for num in labels:\n",
    "        one_hot = [0.0] * 10\n",
    "        if num == 10:\n",
    "            one_hot[0] = 1.0\n",
    "        else:\n",
    "            one_hot[num] = 1.0\n",
    "        one_hot_labels.append(one_hot)\n",
    "    labels = np.array(one_hot_labels).astype(np.float32)\n",
    "    return labels"
   ]
  },
  {
   "cell_type": "code",
   "execution_count": 6,
   "metadata": {},
   "outputs": [
    {
     "name": "stdout",
     "output_type": "stream",
     "text": [
      "(60000, 10)\n",
      "(10000, 10)\n"
     ]
    }
   ],
   "source": [
    "train_label_one_hot = one_hot(train_label)\n",
    "test_label_one_hot = one_hot(test_label)\n",
    "\n",
    "\n",
    "print(train_label_one_hot.shape)\n",
    "print(test_label_one_hot.shape)"
   ]
  },
  {
   "cell_type": "code",
   "execution_count": 7,
   "metadata": {},
   "outputs": [],
   "source": [
    "class SVHN_MLP:\n",
    "    def __init__(self, wd_factor, learning_rate):\n",
    "        self.wd_factor = wd_factor\n",
    "        self.learning_rate = learning_rate\n",
    "        self.train_pointer = 0\n",
    "        self.test_pointer = 0\n",
    "        \n",
    "        self.sess = tf.Session() #open session which need to be closed later\n",
    "        \n",
    "        self.input = tf.placeholder(dtype=tf.float32, shape=[None, 784], name='input') #placeholder with the correct dimension\n",
    "        self.ground_truth = tf.placeholder(dtype=tf.float32, shape=[None, 10], name='ground_truth')\n",
    "        print(self.input)\n",
    "        \n",
    "        self._build_graph()\n",
    "        \n",
    "    def _build_graph(self):\n",
    "        weights = []  # for weight decay\n",
    "        \n",
    "        with tf.variable_scope('layers'): #different layers of the network\n",
    "            h = tf.layers.dense(self.input, 512, kernel_initializer=tf.glorot_uniform_initializer(), \n",
    "                                activation=tf.tanh, name='1')\n",
    "            print(h)\n",
    "            h = tf.layers.dense(h, 256, kernel_initializer=tf.glorot_uniform_initializer(), \n",
    "                                activation=tf.tanh, name='2')\n",
    "            print(h)\n",
    "            h = tf.layers.dense(h, 64, kernel_initializer=tf.glorot_uniform_initializer(), \n",
    "                                activation=tf.tanh, name='3')\n",
    "            print(h)\n",
    "            self.logits = tf.layers.dense(h, 10, kernel_initializer=tf.glorot_uniform_initializer(), \n",
    "                                          activation=tf.identity, name='4')\n",
    "            print(self.logits)\n",
    "            self.prediction = tf.nn.softmax(self.logits, name='softmax_prediction')\n",
    "            \n",
    "        with tf.name_scope('loss'): #to compute the loss, reduce_mean return a scalar with mean of all the loss\n",
    "            self.loss = tf.reduce_mean(tf.nn.softmax_cross_entropy_with_logits_v2(logits=self.logits, \n",
    "                                                                                  labels=self.ground_truth))\n",
    "            self.loss += self.weight_decay()\n",
    "            \n",
    "        self.optimizer = tf.train.AdamOptimizer(self.learning_rate)\n",
    "        self.train_op = self.optimizer.minimize(self.loss) #minimise loss by updating variable using gradient update\n",
    "            \n",
    "    def weight_decay(self):\n",
    "        loss = 0\n",
    "        for v in tf.global_variables():\n",
    "            if 'Adam' in v.name:\n",
    "                continue\n",
    "            elif 'kernel' in v.name:\n",
    "                loss += self.wd_factor * tf.nn.l2_loss(v) #tf.nn.12_loss return half of L2 norm without sqrt\n",
    "        print(loss)\n",
    "        return loss\n",
    "    \n",
    "    def train_minibatch(self, samples, labels, batch_size):\n",
    "        if self.train_pointer + batch_size <= samples.shape[0]:\n",
    "            samples_minibatch = samples[self.train_pointer: self.train_pointer + batch_size]\n",
    "            labels_minibatch = labels[self.train_pointer: self.train_pointer + batch_size]\n",
    "            self.train_pointer += batch_size\n",
    "        else:\n",
    "            samples_minibatch = samples[self.train_pointer:]\n",
    "            labels_minibatch = labels[self.train_pointer: ]\n",
    "            self.train_pointer = 0\n",
    "        return samples_minibatch, labels_minibatch\n",
    "\n",
    "    def train(self, train_samples, train_labels, train_batch_size, iteration_steps):\n",
    "        self.sess.run(tf.global_variables_initializer())\n",
    "\n",
    "        print('Start Training')\n",
    "        losses = []\n",
    "        for i in range(iteration_steps):\n",
    "            samples, labels = self.train_minibatch(train_samples, train_labels, train_batch_size)\n",
    "            feed_dict = {self.input: samples, self.ground_truth: labels}\n",
    "            _, loss = self.sess.run([self.train_op, self.loss], feed_dict=feed_dict)\n",
    "            if i % 50 == 0:\n",
    "                print(\"Minibatch loss at step {}: {}\".format(i, loss))\n",
    "                losses.append([i, loss])\n",
    "        return losses\n",
    "                    \n",
    "    def test_minibatch(self, samples, labels, batch_size):\n",
    "        if self.test_pointer + batch_size <= samples.shape[0]:\n",
    "            samples_minibatch = samples[self.test_pointer: self.test_pointer + batch_size]\n",
    "            labels_minibatch = labels[self.test_pointer: self.test_pointer + batch_size]\n",
    "            self.test_pointer += batch_size\n",
    "            end_of_epoch = False\n",
    "        else:\n",
    "            samples_minibatch = samples[self.test_pointer:]\n",
    "            labels_minibatch = labels[self.test_pointer: ]\n",
    "            self.test_pointer = 0\n",
    "            end_of_epoch = True\n",
    "        return samples_minibatch, labels_minibatch, end_of_epoch\n",
    "            \n",
    "    def test(self, test_samples, test_labels, test_batch_size):\n",
    "        end_of_epoch = False\n",
    "        losses = []\n",
    "        while not end_of_epoch:\n",
    "            samples, labels, end_of_epoch = self.test_minibatch(test_samples, test_labels, test_batch_size)\n",
    "            feed_dict = {self.input: samples, self.ground_truth: labels}\n",
    "            losses.append(self.sess.run(self.loss, feed_dict=feed_dict))  \n",
    "        print(\"Average test loss: {}\".format(np.mean(losses)))"
   ]
  },
  {
   "cell_type": "code",
   "execution_count": 8,
   "metadata": {},
   "outputs": [
    {
     "name": "stdout",
     "output_type": "stream",
     "text": [
      "Tensor(\"input:0\", shape=(?, 784), dtype=float32)\n",
      "Tensor(\"layers/1/Tanh:0\", shape=(?, 512), dtype=float32)\n",
      "Tensor(\"layers/2/Tanh:0\", shape=(?, 256), dtype=float32)\n",
      "Tensor(\"layers/3/Tanh:0\", shape=(?, 64), dtype=float32)\n",
      "Tensor(\"layers/4/Identity:0\", shape=(?, 10), dtype=float32)\n",
      "Tensor(\"loss/add_3:0\", shape=(), dtype=float32)\n"
     ]
    }
   ],
   "source": [
    "WD_FACTOR = 0.0001\n",
    "LEARNING_RATE = 0.001\n",
    "model = SVHN_MLP(WD_FACTOR, LEARNING_RATE)"
   ]
  },
  {
   "cell_type": "code",
   "execution_count": 9,
   "metadata": {},
   "outputs": [
    {
     "data": {
      "text/plain": [
       "[<tf.Variable 'layers/1/kernel:0' shape=(784, 512) dtype=float32_ref>,\n",
       " <tf.Variable 'layers/1/bias:0' shape=(512,) dtype=float32_ref>,\n",
       " <tf.Variable 'layers/2/kernel:0' shape=(512, 256) dtype=float32_ref>,\n",
       " <tf.Variable 'layers/2/bias:0' shape=(256,) dtype=float32_ref>,\n",
       " <tf.Variable 'layers/3/kernel:0' shape=(256, 64) dtype=float32_ref>,\n",
       " <tf.Variable 'layers/3/bias:0' shape=(64,) dtype=float32_ref>,\n",
       " <tf.Variable 'layers/4/kernel:0' shape=(64, 10) dtype=float32_ref>,\n",
       " <tf.Variable 'layers/4/bias:0' shape=(10,) dtype=float32_ref>,\n",
       " <tf.Variable 'beta1_power:0' shape=() dtype=float32_ref>,\n",
       " <tf.Variable 'beta2_power:0' shape=() dtype=float32_ref>,\n",
       " <tf.Variable 'layers/1/kernel/Adam:0' shape=(784, 512) dtype=float32_ref>,\n",
       " <tf.Variable 'layers/1/kernel/Adam_1:0' shape=(784, 512) dtype=float32_ref>,\n",
       " <tf.Variable 'layers/1/bias/Adam:0' shape=(512,) dtype=float32_ref>,\n",
       " <tf.Variable 'layers/1/bias/Adam_1:0' shape=(512,) dtype=float32_ref>,\n",
       " <tf.Variable 'layers/2/kernel/Adam:0' shape=(512, 256) dtype=float32_ref>,\n",
       " <tf.Variable 'layers/2/kernel/Adam_1:0' shape=(512, 256) dtype=float32_ref>,\n",
       " <tf.Variable 'layers/2/bias/Adam:0' shape=(256,) dtype=float32_ref>,\n",
       " <tf.Variable 'layers/2/bias/Adam_1:0' shape=(256,) dtype=float32_ref>,\n",
       " <tf.Variable 'layers/3/kernel/Adam:0' shape=(256, 64) dtype=float32_ref>,\n",
       " <tf.Variable 'layers/3/kernel/Adam_1:0' shape=(256, 64) dtype=float32_ref>,\n",
       " <tf.Variable 'layers/3/bias/Adam:0' shape=(64,) dtype=float32_ref>,\n",
       " <tf.Variable 'layers/3/bias/Adam_1:0' shape=(64,) dtype=float32_ref>,\n",
       " <tf.Variable 'layers/4/kernel/Adam:0' shape=(64, 10) dtype=float32_ref>,\n",
       " <tf.Variable 'layers/4/kernel/Adam_1:0' shape=(64, 10) dtype=float32_ref>,\n",
       " <tf.Variable 'layers/4/bias/Adam:0' shape=(10,) dtype=float32_ref>,\n",
       " <tf.Variable 'layers/4/bias/Adam_1:0' shape=(10,) dtype=float32_ref>]"
      ]
     },
     "execution_count": 9,
     "metadata": {},
     "output_type": "execute_result"
    }
   ],
   "source": [
    "tf.global_variables()"
   ]
  },
  {
   "cell_type": "code",
   "execution_count": 10,
   "metadata": {},
   "outputs": [
    {
     "name": "stdout",
     "output_type": "stream",
     "text": [
      "Start Training\n",
      "Minibatch loss at step 0: 2.7304553985595703\n",
      "Minibatch loss at step 50: 0.39563536643981934\n",
      "Minibatch loss at step 100: 0.351732075214386\n",
      "Minibatch loss at step 150: 0.3777186870574951\n",
      "Minibatch loss at step 200: 0.27048343420028687\n",
      "Minibatch loss at step 250: 0.36491915583610535\n",
      "Minibatch loss at step 300: 0.3982906937599182\n",
      "Minibatch loss at step 350: 0.5005738735198975\n",
      "Minibatch loss at step 400: 0.47761404514312744\n",
      "Minibatch loss at step 450: 0.37590351700782776\n",
      "Minibatch loss at step 500: 0.38703733682632446\n",
      "Minibatch loss at step 550: 0.30181095004081726\n",
      "Minibatch loss at step 600: 0.35700705647468567\n",
      "Minibatch loss at step 650: 0.3236424922943115\n",
      "Minibatch loss at step 700: 0.3736081123352051\n",
      "Minibatch loss at step 750: 0.3654343783855438\n",
      "Minibatch loss at step 800: 0.4663165509700775\n",
      "Minibatch loss at step 850: 0.24075743556022644\n",
      "Minibatch loss at step 900: 0.418569415807724\n",
      "Minibatch loss at step 950: 0.28495144844055176\n",
      "Minibatch loss at step 1000: 0.26646852493286133\n",
      "Minibatch loss at step 1050: 0.4779679477214813\n",
      "Minibatch loss at step 1100: 0.4054310619831085\n",
      "Minibatch loss at step 1150: 0.42711442708969116\n",
      "Minibatch loss at step 1200: 0.2737022638320923\n",
      "Minibatch loss at step 1250: 0.4028486907482147\n",
      "Minibatch loss at step 1300: 0.5296541452407837\n",
      "Minibatch loss at step 1350: 0.3849676251411438\n",
      "Minibatch loss at step 1400: 0.21869736909866333\n",
      "Minibatch loss at step 1450: 0.3436606228351593\n",
      "Minibatch loss at step 1500: 0.2746618688106537\n",
      "Minibatch loss at step 1550: 0.22161865234375\n",
      "Minibatch loss at step 1600: 0.3641721308231354\n",
      "Minibatch loss at step 1650: 0.2941455841064453\n",
      "Minibatch loss at step 1700: 0.29282981157302856\n",
      "Minibatch loss at step 1750: 0.32552239298820496\n",
      "Minibatch loss at step 1800: 0.6474107503890991\n",
      "Minibatch loss at step 1850: 0.20675727725028992\n",
      "Minibatch loss at step 1900: 0.17400327324867249\n",
      "Minibatch loss at step 1950: 0.3357745110988617\n",
      "Minibatch loss at step 2000: 0.32019153237342834\n",
      "Minibatch loss at step 2050: 0.19765804708003998\n",
      "Minibatch loss at step 2100: 0.24547909200191498\n",
      "Minibatch loss at step 2150: 0.2998979091644287\n",
      "Minibatch loss at step 2200: 0.3891366720199585\n",
      "Minibatch loss at step 2250: 0.3849104642868042\n",
      "Minibatch loss at step 2300: 0.23246636986732483\n",
      "Minibatch loss at step 2350: 0.24626442790031433\n",
      "Minibatch loss at step 2400: 0.21374410390853882\n",
      "Minibatch loss at step 2450: 0.31800374388694763\n",
      "Minibatch loss at step 2500: 0.31463295221328735\n",
      "Minibatch loss at step 2550: 0.33538445830345154\n",
      "Minibatch loss at step 2600: 0.27512460947036743\n",
      "Minibatch loss at step 2650: 0.19724251329898834\n",
      "Minibatch loss at step 2700: 0.3712886869907379\n",
      "Minibatch loss at step 2750: 0.2886738181114197\n",
      "Minibatch loss at step 2800: 0.16265085339546204\n",
      "Minibatch loss at step 2850: 0.2814420461654663\n",
      "Minibatch loss at step 2900: 0.21360379457473755\n",
      "Minibatch loss at step 2950: 0.29739323258399963\n",
      "Minibatch loss at step 3000: 0.28338444232940674\n",
      "Minibatch loss at step 3050: 0.20714056491851807\n",
      "Minibatch loss at step 3100: 0.18847507238388062\n",
      "Minibatch loss at step 3150: 0.3607243001461029\n",
      "Minibatch loss at step 3200: 0.30045562982559204\n",
      "Minibatch loss at step 3250: 0.28798985481262207\n",
      "Minibatch loss at step 3300: 0.17722725868225098\n",
      "Minibatch loss at step 3350: 0.2447170466184616\n",
      "Minibatch loss at step 3400: 0.20047935843467712\n",
      "Minibatch loss at step 3450: 0.26201656460762024\n",
      "Minibatch loss at step 3500: 0.21418723464012146\n",
      "Minibatch loss at step 3550: 0.12887337803840637\n",
      "Minibatch loss at step 3600: 0.2934219241142273\n",
      "Minibatch loss at step 3650: 0.1891898214817047\n",
      "Minibatch loss at step 3700: 0.3191077709197998\n",
      "Minibatch loss at step 3750: 0.14301928877830505\n",
      "Minibatch loss at step 3800: 0.214541956782341\n",
      "Minibatch loss at step 3850: 0.5383769273757935\n",
      "Minibatch loss at step 3900: 0.244341641664505\n",
      "Minibatch loss at step 3950: 0.10743503272533417\n",
      "Minibatch loss at step 4000: 0.2563851773738861\n",
      "Minibatch loss at step 4050: 0.22330954670906067\n",
      "Minibatch loss at step 4100: 0.1591375321149826\n",
      "Minibatch loss at step 4150: 0.1487424373626709\n",
      "Minibatch loss at step 4200: 0.23249657452106476\n",
      "Minibatch loss at step 4250: 0.25028035044670105\n",
      "Minibatch loss at step 4300: 0.38943055272102356\n",
      "Minibatch loss at step 4350: 0.31513285636901855\n",
      "Minibatch loss at step 4400: 0.1546916663646698\n",
      "Minibatch loss at step 4450: 0.2813641428947449\n",
      "Minibatch loss at step 4500: 0.16571086645126343\n",
      "Minibatch loss at step 4550: 0.3344879150390625\n",
      "Minibatch loss at step 4600: 0.26740404963493347\n",
      "Minibatch loss at step 4650: 0.3364478349685669\n",
      "Minibatch loss at step 4700: 0.3110769987106323\n",
      "Minibatch loss at step 4750: 0.29512467980384827\n",
      "Minibatch loss at step 4800: 0.24279475212097168\n",
      "Minibatch loss at step 4850: 0.2773866057395935\n",
      "Minibatch loss at step 4900: 0.21685706079006195\n",
      "Minibatch loss at step 4950: 0.29724177718162537\n",
      "Minibatch loss at step 5000: 0.22208915650844574\n",
      "Minibatch loss at step 5050: 0.2585790455341339\n",
      "Minibatch loss at step 5100: 0.18529249727725983\n",
      "Minibatch loss at step 5150: 0.11383166909217834\n",
      "Minibatch loss at step 5200: 0.28546106815338135\n",
      "Minibatch loss at step 5250: 0.27618736028671265\n",
      "Minibatch loss at step 5300: 0.21452869474887848\n",
      "Minibatch loss at step 5350: 0.26949837803840637\n",
      "Minibatch loss at step 5400: 0.3704717755317688\n",
      "Minibatch loss at step 5450: 0.273869127035141\n",
      "Minibatch loss at step 5500: 0.273499995470047\n",
      "Minibatch loss at step 5550: 0.2531106472015381\n",
      "Minibatch loss at step 5600: 0.26321932673454285\n",
      "Minibatch loss at step 5650: 0.19510498642921448\n",
      "Minibatch loss at step 5700: 0.25198104977607727\n",
      "Minibatch loss at step 5750: 0.2564863860607147\n",
      "Minibatch loss at step 5800: 0.2296343594789505\n",
      "Minibatch loss at step 5850: 0.1939247101545334\n",
      "Minibatch loss at step 5900: 0.4173559844493866\n",
      "Minibatch loss at step 5950: 0.4383580684661865\n",
      "Minibatch loss at step 6000: 0.2058638632297516\n",
      "Minibatch loss at step 6050: 0.2932748794555664\n",
      "Minibatch loss at step 6100: 0.2615275979042053\n",
      "Minibatch loss at step 6150: 0.26762160658836365\n",
      "Minibatch loss at step 6200: 0.2068629264831543\n",
      "Minibatch loss at step 6250: 0.17823511362075806\n",
      "Minibatch loss at step 6300: 0.19805210828781128\n",
      "Minibatch loss at step 6350: 0.3992747962474823\n",
      "Minibatch loss at step 6400: 0.1607707142829895\n",
      "Minibatch loss at step 6450: 0.2061542272567749\n",
      "Minibatch loss at step 6500: 0.20359687507152557\n",
      "Minibatch loss at step 6550: 0.219753235578537\n",
      "Minibatch loss at step 6600: 0.2739635407924652\n",
      "Minibatch loss at step 6650: 0.25563040375709534\n",
      "Minibatch loss at step 6700: 0.23921366035938263\n",
      "Minibatch loss at step 6750: 0.2204088270664215\n",
      "Minibatch loss at step 6800: 0.30972081422805786\n",
      "Minibatch loss at step 6850: 0.18923044204711914\n",
      "Minibatch loss at step 6900: 0.2966806888580322\n",
      "Minibatch loss at step 6950: 0.27858075499534607\n",
      "Minibatch loss at step 7000: 0.16441234946250916\n",
      "Minibatch loss at step 7050: 0.2958565652370453\n",
      "Minibatch loss at step 7100: 0.2127600610256195\n",
      "Minibatch loss at step 7150: 0.3489864468574524\n",
      "Minibatch loss at step 7200: 0.22844967246055603\n",
      "Minibatch loss at step 7250: 0.2232876718044281\n",
      "Minibatch loss at step 7300: 0.16911360621452332\n",
      "Minibatch loss at step 7350: 0.2310372292995453\n",
      "Minibatch loss at step 7400: 0.21899613738059998\n",
      "Minibatch loss at step 7450: 0.2396087348461151\n",
      "Minibatch loss at step 7500: 0.13057947158813477\n",
      "Minibatch loss at step 7550: 0.17545312643051147\n",
      "Minibatch loss at step 7600: 0.27939289808273315\n",
      "Minibatch loss at step 7650: 0.15120592713356018\n",
      "Minibatch loss at step 7700: 0.26430225372314453\n",
      "Minibatch loss at step 7750: 0.21901491284370422\n",
      "Minibatch loss at step 7800: 0.2119523584842682\n",
      "Minibatch loss at step 7850: 0.2776268720626831\n",
      "Minibatch loss at step 7900: 0.36576080322265625\n",
      "Minibatch loss at step 7950: 0.17176857590675354\n",
      "Minibatch loss at step 8000: 0.2105320692062378\n",
      "Minibatch loss at step 8050: 0.23777145147323608\n",
      "Minibatch loss at step 8100: 0.1985594630241394\n",
      "Minibatch loss at step 8150: 0.2271522879600525\n",
      "Minibatch loss at step 8200: 0.2658684551715851\n",
      "Minibatch loss at step 8250: 0.2495855987071991\n",
      "Minibatch loss at step 8300: 0.2393537014722824\n",
      "Minibatch loss at step 8350: 0.36663949489593506\n",
      "Minibatch loss at step 8400: 0.21182399988174438\n",
      "Minibatch loss at step 8450: 0.36995330452919006\n"
     ]
    },
    {
     "name": "stdout",
     "output_type": "stream",
     "text": [
      "Minibatch loss at step 8500: 0.18068408966064453\n",
      "Minibatch loss at step 8550: 0.22701296210289001\n",
      "Minibatch loss at step 8600: 0.2342423051595688\n",
      "Minibatch loss at step 8650: 0.3159503638744354\n",
      "Minibatch loss at step 8700: 0.2096594274044037\n",
      "Minibatch loss at step 8750: 0.21111057698726654\n",
      "Minibatch loss at step 8800: 0.26160043478012085\n",
      "Minibatch loss at step 8850: 0.23394779860973358\n",
      "Minibatch loss at step 8900: 0.16353467106819153\n",
      "Minibatch loss at step 8950: 0.21759790182113647\n",
      "Minibatch loss at step 9000: 0.26261886954307556\n",
      "Minibatch loss at step 9050: 0.2367348074913025\n",
      "Minibatch loss at step 9100: 0.26674243807792664\n",
      "Minibatch loss at step 9150: 0.18066278100013733\n",
      "Minibatch loss at step 9200: 0.2610207796096802\n",
      "Minibatch loss at step 9250: 0.18312107026576996\n",
      "Minibatch loss at step 9300: 0.3770485520362854\n",
      "Minibatch loss at step 9350: 0.3286290764808655\n",
      "Minibatch loss at step 9400: 0.21046575903892517\n",
      "Minibatch loss at step 9450: 0.22581851482391357\n",
      "Minibatch loss at step 9500: 0.20592018961906433\n",
      "Minibatch loss at step 9550: 0.17168694734573364\n",
      "Minibatch loss at step 9600: 0.23378978669643402\n",
      "Minibatch loss at step 9650: 0.23149949312210083\n",
      "Minibatch loss at step 9700: 0.2206995189189911\n",
      "Minibatch loss at step 9750: 0.32079631090164185\n",
      "Minibatch loss at step 9800: 0.31312501430511475\n",
      "Minibatch loss at step 9850: 0.26246657967567444\n",
      "Minibatch loss at step 9900: 0.1642669439315796\n",
      "Minibatch loss at step 9950: 0.26217120885849\n",
      "Training time: 101.90418219566345s\n"
     ]
    }
   ],
   "source": [
    "TRAIN_BATCH_SIZE = 128\n",
    "ITERATIONS = 10000\n",
    "\n",
    "import time\n",
    "start_time = time.time()\n",
    "\n",
    "losses = model.train(train_set_flat, train_label_one_hot, TRAIN_BATCH_SIZE, ITERATIONS)\n",
    "\n",
    "end_time = time.time()\n",
    "print(\"Training time: {}s\".format(end_time - start_time))"
   ]
  },
  {
   "cell_type": "code",
   "execution_count": 11,
   "metadata": {},
   "outputs": [
    {
     "name": "stdout",
     "output_type": "stream",
     "text": [
      "(200, 2)\n"
     ]
    }
   ],
   "source": [
    "losses = np.array(losses)\n",
    "print(losses.shape)"
   ]
  },
  {
   "cell_type": "code",
   "execution_count": 13,
   "metadata": {},
   "outputs": [
    {
     "data": {
      "image/png": "[encoded data removed]",
      "text/plain": [
       "<Figure size 720x360 with 1 Axes>"
      ]
     },
     "metadata": {
      "needs_background": "light"
     },
     "output_type": "display_data"
    }
   ],
   "source": [
    "import matplotlib.pyplot as plt\n",
    "\n",
    "iterations = losses[:, 0]\n",
    "train_loss = losses[:, 1]\n",
    "plt.figure(figsize=(10, 5))\n",
    "plt.plot(iterations, train_loss)\n",
    "plt.xlabel(\"Iterations\")\n",
    "plt.ylabel(\"Loss\")\n",
    "plt.title(\"Training curve\")\n",
    "plt.show()"
   ]
  },
  {
   "cell_type": "code",
   "execution_count": 16,
   "metadata": {},
   "outputs": [
    {
     "name": "stdout",
     "output_type": "stream",
     "text": [
      "Average test loss: 0.24482792615890503\n"
     ]
    }
   ],
   "source": [
    "TEST_BATCH_SIZE = 128\n",
    "\n",
    "model.test(test_set_flat, test_label_one_hot, TEST_BATCH_SIZE)"
   ]
  },
  {
   "cell_type": "code",
   "execution_count": 32,
   "metadata": {
    "scrolled": true
   },
   "outputs": [
    {
     "name": "stdout",
     "output_type": "stream",
     "text": [
      "Test sample digit: 2\n"
     ]
    },
    {
     "data": {
      "image/png": "[encoded data removed]",
      "text/plain": [
       "<Figure size 1224x360 with 2 Axes>"
      ]
     },
     "metadata": {
      "needs_background": "light"
     },
     "output_type": "display_data"
    },
    {
     "name": "stdout",
     "output_type": "stream",
     "text": [
      "Network prediction probabilities:\n",
      "[1.5608706e-05 1.5543711e-04 9.9960965e-01 1.5052586e-04 1.5607135e-08\n",
      " 1.1248032e-05 1.6455842e-05 1.4783079e-06 3.9858420e-05 5.3380265e-09]\n"
     ]
    }
   ],
   "source": [
    "example = np.random.choice(np.arange(n_test)) #randomly choose a index from n_test\n",
    "\n",
    "sample = np.expand_dims(test_set_flat[example], axis=0)\n",
    "label = np.expand_dims(test_label_one_hot[example], axis=0)\n",
    "\n",
    "digit = np.where(label[0]==1.0)[0][0] #extract the real digit, (index) from one_hot vector\n",
    "\n",
    "feed_dict = {model.input: sample, model.ground_truth: label}\n",
    "prediction = model.sess.run(model.prediction, feed_dict=feed_dict)[0]\n",
    "\n",
    "image = np.reshape(sample, (28, 28))\n",
    "\n",
    "print(\"Test sample digit: {}\".format(digit))\n",
    "fig, ax = plt.subplots(1, 2, figsize=(17, 5))\n",
    "ax[0].imshow(image, cmap='gray')\n",
    "ax[0].set_title(\"Test example\")\n",
    "\n",
    "classes = np.arange(10)\n",
    "width = 1.0\n",
    "\n",
    "ax[1].bar(classes, prediction, width, color='Blue')\n",
    "ax[1].set_ylabel('Probabilities')\n",
    "ax[1].set_title('Network categorical distribution')\n",
    "ax[1].set_xticks(classes)\n",
    "ax[1].set_xticklabels(('0', '1', '2', '3', '4', '5', '6', '7', '8', '9'))\n",
    "ax[1].set_xlabel('Digit class')\n",
    "\n",
    "plt.show()\n",
    "\n",
    "print(\"Network prediction probabilities:\")\n",
    "print(prediction)"
   ]
  },
  {
   "cell_type": "code",
   "execution_count": 33,
   "metadata": {},
   "outputs": [
    {
     "name": "stdout",
     "output_type": "stream",
     "text": [
      "total training time : 101.90418219566345 s, or 1 min 41.90418219566345 s\n",
      "total parameters involved : 26\n"
     ]
    }
   ],
   "source": [
    "train_time = end_time - start_time\n",
    "print('total training time : {} s, or {} min {} s'.format(train_time, int(train_time/60), train_time%60))\n",
    "count = len(tf.global_variables())\n",
    "print('total parameters involved :', count)"
   ]
  },
  {
   "cell_type": "code",
   "execution_count": null,
   "metadata": {},
   "outputs": [],
   "source": [
    "model.sess.close()"
   ]
  }
 ],
 "metadata": {
  "kernelspec": {
   "display_name": "Python 3",
   "language": "python",
   "name": "python3"
  },
  "language_info": {
   "codemirror_mode": {
    "name": "ipython",
    "version": 3
   },
   "file_extension": ".py",
   "mimetype": "text/x-python",
   "name": "python",
   "nbconvert_exporter": "python",
   "pygments_lexer": "ipython3",
   "version": "3.6.6"
  }
 },
 "nbformat": 4,
 "nbformat_minor": 2
}
