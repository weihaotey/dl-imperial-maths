{
  "nbformat": 4,
  "nbformat_minor": 0,
  "metadata": {
    "colab": {
      "name": "weihao_assignment2.ipynb",
      "version": "0.3.2",
      "provenance": [],
      "toc_visible": true
    },
    "kernelspec": {
      "name": "python3",
      "display_name": "Python 3"
    },
    "accelerator": "GPU"
  },
  "cells": [
    {
      "metadata": {
        "id": "tohNLwUsI5q1",
        "colab_type": "text"
      },
      "cell_type": "markdown",
      "source": [
        "# Assignment 2"
      ]
    },
    {
      "metadata": {
        "id": "VhFXGq_1I5rN",
        "colab_type": "code",
        "colab": {}
      },
      "cell_type": "code",
      "source": [
        "import tensorflow as tf\n",
        "import numpy as np\n",
        "\n",
        "def load_mnist(path, kind='train'):\n",
        "    import os\n",
        "    import gzip\n",
        "\n",
        "    \"\"\"Load MNIST data from `path`\"\"\"\n",
        "    labels_path = os.path.join(path,\n",
        "                               '%s-labels-idx1-ubyte.gz'\n",
        "                               % kind)\n",
        "    images_path = os.path.join(path,\n",
        "                               '%s-images-idx3-ubyte.gz'\n",
        "                               % kind)\n",
        "    \n",
        "    '''unzip the MNIST file and seperate it into test and training file'''\n",
        "    with gzip.open(labels_path, 'rb') as lbpath:\n",
        "        labels = np.frombuffer(lbpath.read(), dtype=np.uint8,\n",
        "                               offset=8)\n",
        "\n",
        "    with gzip.open(images_path, 'rb') as imgpath:\n",
        "        images = np.frombuffer(imgpath.read(), dtype=np.uint8,\n",
        "                               offset=16).reshape(len(labels), 28, 28)\n",
        "\n",
        "    return images, labels\n",
        "  \n",
        "\n",
        "train_X, train_Y = load_mnist('', kind='train')\n",
        "test_X, test_Y = load_mnist('', kind='t10k')\n",
        "\n",
        "train_set = np.expand_dims(train_X, axis=3)\n",
        "train_label = np.expand_dims(train_Y, axis=1)\n",
        "test_set = np.expand_dims(test_X, axis=3)\n",
        "test_label = np.expand_dims(test_Y, axis=1)\n",
        "\n",
        "n_train = len(train_set)\n",
        "n_test = len(test_set)"
      ],
      "execution_count": 0,
      "outputs": []
    },
    {
      "metadata": {
        "id": "Q7jpeEKsI5rb",
        "colab_type": "code",
        "outputId": "6ae9b92e-35a9-420e-aed3-06bb0649e672",
        "colab": {
          "base_uri": "https://localhost:8080/",
          "height": 51
        }
      },
      "cell_type": "code",
      "source": [
        "#flatten the input to feed into MLP\n",
        "train_set_flat = train_set.reshape((n_train, -1)) #reshape the data to n_train row, -1 is unspecified so that code decide on their own\n",
        "test_set_flat = test_set.reshape((n_test, -1))\n",
        "\n",
        "print(train_set_flat.shape)\n",
        "print(test_set_flat.shape)"
      ],
      "execution_count": 0,
      "outputs": [
        {
          "output_type": "stream",
          "text": [
            "(60000, 784)\n",
            "(10000, 784)\n"
          ],
          "name": "stdout"
        }
      ]
    },
    {
      "metadata": {
        "id": "IFaiF1xuI5ru",
        "colab_type": "code",
        "colab": {}
      },
      "cell_type": "code",
      "source": [
        "def one_hot(labels):\n",
        "    \"\"\"\n",
        "    Encodes the labels as one-hot vectors. Zero is represented as 10 in SVHN.\n",
        "    [10] -> [1, 0, 0, 0, 0, 0, 0, 0, 0, 0]\n",
        "    [2] -> [0, 0, 1, 0, 0, 0, 0, 0, 0, 0]\n",
        "    \n",
        "    \"\"\"\n",
        "    labels = np.squeeze(labels)\n",
        "    one_hot_labels = []\n",
        "    for num in labels:\n",
        "        one_hot = [0.0] * 10\n",
        "        if num == 10:\n",
        "            one_hot[0] = 1.0\n",
        "        else:\n",
        "            one_hot[num] = 1.0\n",
        "        one_hot_labels.append(one_hot)\n",
        "    labels = np.array(one_hot_labels).astype(np.float32)\n",
        "    return labels"
      ],
      "execution_count": 0,
      "outputs": []
    },
    {
      "metadata": {
        "id": "juD92O2SI5r2",
        "colab_type": "code",
        "outputId": "9235f95b-244d-4530-b7fe-e1d96f740b71",
        "colab": {
          "base_uri": "https://localhost:8080/",
          "height": 51
        }
      },
      "cell_type": "code",
      "source": [
        "train_label_one_hot = one_hot(train_label)\n",
        "test_label_one_hot = one_hot(test_label)\n",
        "\n",
        "\n",
        "print(train_label_one_hot.shape)\n",
        "print(test_label_one_hot.shape)"
      ],
      "execution_count": 0,
      "outputs": [
        {
          "output_type": "stream",
          "text": [
            "(60000, 10)\n",
            "(10000, 10)\n"
          ],
          "name": "stdout"
        }
      ]
    },
    {
      "metadata": {
        "id": "2R4Hw1LMI5r_",
        "colab_type": "code",
        "colab": {}
      },
      "cell_type": "code",
      "source": [
        "class SVHN_MLP:\n",
        "    def __init__(self, wd_factor, learning_rate):\n",
        "        self.wd_factor = wd_factor\n",
        "        self.learning_rate = learning_rate\n",
        "        self.train_pointer = 0\n",
        "        self.test_pointer = 0\n",
        "        \n",
        "        self.sess = tf.Session() #open session which need to be closed later\n",
        "        \n",
        "        self.input = tf.placeholder(dtype=tf.float32, shape=[None, 784], name='input') #placeholder with the correct dimension\n",
        "        self.ground_truth = tf.placeholder(dtype=tf.float32, shape=[None, 10], name='ground_truth')\n",
        "        print(self.input)\n",
        "        \n",
        "        self._build_graph()\n",
        "        \n",
        "    def _build_graph(self):\n",
        "        weights = []  # for weight decay\n",
        "        \n",
        "        with tf.variable_scope('layers'): #different layers of the network\n",
        "            h = tf.layers.dense(self.input, 512, kernel_initializer=tf.glorot_uniform_initializer(), \n",
        "                                activation=tf.tanh, name='1')\n",
        "            print(h)\n",
        "            h = tf.layers.dense(h, 256, kernel_initializer=tf.glorot_uniform_initializer(), \n",
        "                                activation=tf.tanh, name='2')\n",
        "            print(h)\n",
        "            h = tf.layers.dense(h, 64, kernel_initializer=tf.glorot_uniform_initializer(), \n",
        "                                activation=tf.tanh, name='3')\n",
        "            print(h)\n",
        "            self.logits = tf.layers.dense(h, 10, kernel_initializer=tf.glorot_uniform_initializer(), \n",
        "                                          activation=tf.identity, name='4')\n",
        "            print(self.logits)\n",
        "            self.prediction = tf.nn.softmax(self.logits, name='softmax_prediction')\n",
        "            \n",
        "        with tf.name_scope('loss'): #to compute the loss, reduce_mean return a scalar with mean of all the loss\n",
        "            self.loss = tf.reduce_mean(tf.nn.softmax_cross_entropy_with_logits_v2(logits=self.logits, \n",
        "                                                                                  labels=self.ground_truth))\n",
        "            self.loss += self.weight_decay()\n",
        "            \n",
        "        self.optimizer = tf.train.AdamOptimizer(self.learning_rate)\n",
        "        self.train_op = self.optimizer.minimize(self.loss) #minimise loss by updating variable using gradient update\n",
        "            \n",
        "    def weight_decay(self):\n",
        "        loss = 0\n",
        "        for v in tf.global_variables():\n",
        "            if 'Adam' in v.name:\n",
        "                continue\n",
        "            elif 'kernel' in v.name:\n",
        "                loss += self.wd_factor * tf.nn.l2_loss(v) #tf.nn.12_loss return half of L2 norm without sqrt\n",
        "        print(loss)\n",
        "        return loss\n",
        "    \n",
        "    def train_minibatch(self, samples, labels, batch_size):\n",
        "        if self.train_pointer + batch_size <= samples.shape[0]:\n",
        "            samples_minibatch = samples[self.train_pointer: self.train_pointer + batch_size]\n",
        "            labels_minibatch = labels[self.train_pointer: self.train_pointer + batch_size]\n",
        "            self.train_pointer += batch_size\n",
        "        else:\n",
        "            samples_minibatch = samples[self.train_pointer:]\n",
        "            labels_minibatch = labels[self.train_pointer: ]\n",
        "            self.train_pointer = 0\n",
        "        return samples_minibatch, labels_minibatch\n",
        "\n",
        "    def train(self, train_samples, train_labels, train_batch_size, iteration_steps):\n",
        "        self.sess.run(tf.global_variables_initializer())\n",
        "\n",
        "        print('Start Training')\n",
        "        losses = []\n",
        "        for i in range(iteration_steps):\n",
        "            samples, labels = self.train_minibatch(train_samples, train_labels, train_batch_size)\n",
        "            feed_dict = {self.input: samples, self.ground_truth: labels}\n",
        "            _, loss = self.sess.run([self.train_op, self.loss], feed_dict=feed_dict)\n",
        "            if i % 50 == 0:\n",
        "                print(\"Minibatch loss at step {}: {}\".format(i, loss))\n",
        "                losses.append([i, loss])\n",
        "        return losses\n",
        "                    \n",
        "    def test_minibatch(self, samples, labels, batch_size):\n",
        "        if self.test_pointer + batch_size <= samples.shape[0]:\n",
        "            samples_minibatch = samples[self.test_pointer: self.test_pointer + batch_size]\n",
        "            labels_minibatch = labels[self.test_pointer: self.test_pointer + batch_size]\n",
        "            self.test_pointer += batch_size\n",
        "            end_of_epoch = False\n",
        "        else:\n",
        "            samples_minibatch = samples[self.test_pointer:]\n",
        "            labels_minibatch = labels[self.test_pointer: ]\n",
        "            self.test_pointer = 0\n",
        "            end_of_epoch = True\n",
        "        return samples_minibatch, labels_minibatch, end_of_epoch\n",
        "            \n",
        "    def test(self, test_samples, test_labels, test_batch_size):\n",
        "        end_of_epoch = False\n",
        "        losses = []\n",
        "        while not end_of_epoch:\n",
        "            samples, labels, end_of_epoch = self.test_minibatch(test_samples, test_labels, test_batch_size)\n",
        "            feed_dict = {self.input: samples, self.ground_truth: labels}\n",
        "            losses.append(self.sess.run(self.loss, feed_dict=feed_dict))  \n",
        "        print(\"Average test loss: {}\".format(np.mean(losses)))"
      ],
      "execution_count": 0,
      "outputs": []
    },
    {
      "metadata": {
        "id": "jXIfje0BI5sF",
        "colab_type": "code",
        "outputId": "a685e3a2-7176-4f20-ce23-11cd094897b6",
        "colab": {
          "base_uri": "https://localhost:8080/",
          "height": 119
        }
      },
      "cell_type": "code",
      "source": [
        "WD_FACTOR = 0.0001\n",
        "LEARNING_RATE = 0.001\n",
        "model = SVHN_MLP(WD_FACTOR, LEARNING_RATE)"
      ],
      "execution_count": 0,
      "outputs": [
        {
          "output_type": "stream",
          "text": [
            "Tensor(\"input:0\", shape=(?, 784), dtype=float32)\n",
            "Tensor(\"layers/1/Tanh:0\", shape=(?, 512), dtype=float32)\n",
            "Tensor(\"layers/2/Tanh:0\", shape=(?, 256), dtype=float32)\n",
            "Tensor(\"layers/3/Tanh:0\", shape=(?, 64), dtype=float32)\n",
            "Tensor(\"layers/4/Identity:0\", shape=(?, 10), dtype=float32)\n",
            "Tensor(\"loss/add_3:0\", shape=(), dtype=float32)\n"
          ],
          "name": "stdout"
        }
      ]
    },
    {
      "metadata": {
        "id": "61F9-k33I5sP",
        "colab_type": "code",
        "outputId": "2983f665-a09e-4bc4-f359-dec93ad007b3",
        "colab": {
          "base_uri": "https://localhost:8080/",
          "height": 459
        }
      },
      "cell_type": "code",
      "source": [
        "tf.global_variables()"
      ],
      "execution_count": 0,
      "outputs": [
        {
          "output_type": "execute_result",
          "data": {
            "text/plain": [
              "[<tf.Variable 'layers/1/kernel:0' shape=(784, 512) dtype=float32_ref>,\n",
              " <tf.Variable 'layers/1/bias:0' shape=(512,) dtype=float32_ref>,\n",
              " <tf.Variable 'layers/2/kernel:0' shape=(512, 256) dtype=float32_ref>,\n",
              " <tf.Variable 'layers/2/bias:0' shape=(256,) dtype=float32_ref>,\n",
              " <tf.Variable 'layers/3/kernel:0' shape=(256, 64) dtype=float32_ref>,\n",
              " <tf.Variable 'layers/3/bias:0' shape=(64,) dtype=float32_ref>,\n",
              " <tf.Variable 'layers/4/kernel:0' shape=(64, 10) dtype=float32_ref>,\n",
              " <tf.Variable 'layers/4/bias:0' shape=(10,) dtype=float32_ref>,\n",
              " <tf.Variable 'beta1_power:0' shape=() dtype=float32_ref>,\n",
              " <tf.Variable 'beta2_power:0' shape=() dtype=float32_ref>,\n",
              " <tf.Variable 'layers/1/kernel/Adam:0' shape=(784, 512) dtype=float32_ref>,\n",
              " <tf.Variable 'layers/1/kernel/Adam_1:0' shape=(784, 512) dtype=float32_ref>,\n",
              " <tf.Variable 'layers/1/bias/Adam:0' shape=(512,) dtype=float32_ref>,\n",
              " <tf.Variable 'layers/1/bias/Adam_1:0' shape=(512,) dtype=float32_ref>,\n",
              " <tf.Variable 'layers/2/kernel/Adam:0' shape=(512, 256) dtype=float32_ref>,\n",
              " <tf.Variable 'layers/2/kernel/Adam_1:0' shape=(512, 256) dtype=float32_ref>,\n",
              " <tf.Variable 'layers/2/bias/Adam:0' shape=(256,) dtype=float32_ref>,\n",
              " <tf.Variable 'layers/2/bias/Adam_1:0' shape=(256,) dtype=float32_ref>,\n",
              " <tf.Variable 'layers/3/kernel/Adam:0' shape=(256, 64) dtype=float32_ref>,\n",
              " <tf.Variable 'layers/3/kernel/Adam_1:0' shape=(256, 64) dtype=float32_ref>,\n",
              " <tf.Variable 'layers/3/bias/Adam:0' shape=(64,) dtype=float32_ref>,\n",
              " <tf.Variable 'layers/3/bias/Adam_1:0' shape=(64,) dtype=float32_ref>,\n",
              " <tf.Variable 'layers/4/kernel/Adam:0' shape=(64, 10) dtype=float32_ref>,\n",
              " <tf.Variable 'layers/4/kernel/Adam_1:0' shape=(64, 10) dtype=float32_ref>,\n",
              " <tf.Variable 'layers/4/bias/Adam:0' shape=(10,) dtype=float32_ref>,\n",
              " <tf.Variable 'layers/4/bias/Adam_1:0' shape=(10,) dtype=float32_ref>]"
            ]
          },
          "metadata": {
            "tags": []
          },
          "execution_count": 7
        }
      ]
    },
    {
      "metadata": {
        "id": "K9ybzE80I5sd",
        "colab_type": "code",
        "outputId": "accdb63a-1221-4d77-8ab8-9313eeb6f6fd",
        "colab": {
          "base_uri": "https://localhost:8080/",
          "height": 3451
        }
      },
      "cell_type": "code",
      "source": [
        "TRAIN_BATCH_SIZE = 128\n",
        "ITERATIONS = 10000\n",
        "\n",
        "import time\n",
        "start_time = time.time()\n",
        "\n",
        "losses = model.train(train_set_flat, train_label_one_hot, TRAIN_BATCH_SIZE, ITERATIONS)\n",
        "\n",
        "end_time = time.time()\n",
        "print(\"Training time: {}s\".format(end_time - start_time))"
      ],
      "execution_count": 0,
      "outputs": [
        {
          "output_type": "stream",
          "text": [
            "Start Training\n",
            "Minibatch loss at step 0: 2.6333017349243164\n",
            "Minibatch loss at step 50: 0.4585011899471283\n",
            "Minibatch loss at step 100: 0.42836618423461914\n",
            "Minibatch loss at step 150: 0.3417171835899353\n",
            "Minibatch loss at step 200: 0.30300596356391907\n",
            "Minibatch loss at step 250: 0.3889588415622711\n",
            "Minibatch loss at step 300: 0.3472292423248291\n",
            "Minibatch loss at step 350: 0.5031684637069702\n",
            "Minibatch loss at step 400: 0.5166388154029846\n",
            "Minibatch loss at step 450: 0.46827560663223267\n",
            "Minibatch loss at step 500: 0.33608993887901306\n",
            "Minibatch loss at step 550: 0.3538742661476135\n",
            "Minibatch loss at step 600: 0.4048428535461426\n",
            "Minibatch loss at step 650: 0.30106091499328613\n",
            "Minibatch loss at step 700: 0.3215802311897278\n",
            "Minibatch loss at step 750: 0.401314914226532\n",
            "Minibatch loss at step 800: 0.46393004059791565\n",
            "Minibatch loss at step 850: 0.21862579882144928\n",
            "Minibatch loss at step 900: 0.3450760841369629\n",
            "Minibatch loss at step 950: 0.28819161653518677\n",
            "Minibatch loss at step 1000: 0.44408831000328064\n",
            "Minibatch loss at step 1050: 0.4873995780944824\n",
            "Minibatch loss at step 1100: 0.4066052734851837\n",
            "Minibatch loss at step 1150: 0.48436498641967773\n",
            "Minibatch loss at step 1200: 0.3225744664669037\n",
            "Minibatch loss at step 1250: 0.2968493103981018\n",
            "Minibatch loss at step 1300: 0.4045785665512085\n",
            "Minibatch loss at step 1350: 0.4416722059249878\n",
            "Minibatch loss at step 1400: 0.2414480298757553\n",
            "Minibatch loss at step 1450: 0.3227537274360657\n",
            "Minibatch loss at step 1500: 0.38415294885635376\n",
            "Minibatch loss at step 1550: 0.34738442301750183\n",
            "Minibatch loss at step 1600: 0.4224962890148163\n",
            "Minibatch loss at step 1650: 0.41628220677375793\n",
            "Minibatch loss at step 1700: 0.30657875537872314\n",
            "Minibatch loss at step 1750: 0.2527996599674225\n",
            "Minibatch loss at step 1800: 0.613845705986023\n",
            "Minibatch loss at step 1850: 0.20966672897338867\n",
            "Minibatch loss at step 1900: 0.1578703373670578\n",
            "Minibatch loss at step 1950: 0.304290235042572\n",
            "Minibatch loss at step 2000: 0.2913655936717987\n",
            "Minibatch loss at step 2050: 0.199250265955925\n",
            "Minibatch loss at step 2100: 0.23467408120632172\n",
            "Minibatch loss at step 2150: 0.24379798769950867\n",
            "Minibatch loss at step 2200: 0.44745728373527527\n",
            "Minibatch loss at step 2250: 0.34605520963668823\n",
            "Minibatch loss at step 2300: 0.26610952615737915\n",
            "Minibatch loss at step 2350: 0.24201926589012146\n",
            "Minibatch loss at step 2400: 0.21750816702842712\n",
            "Minibatch loss at step 2450: 0.2146357148885727\n",
            "Minibatch loss at step 2500: 0.3337538540363312\n",
            "Minibatch loss at step 2550: 0.2601138651371002\n",
            "Minibatch loss at step 2600: 0.23099642992019653\n",
            "Minibatch loss at step 2650: 0.20565909147262573\n",
            "Minibatch loss at step 2700: 0.2822943925857544\n",
            "Minibatch loss at step 2750: 0.22084790468215942\n",
            "Minibatch loss at step 2800: 0.18702548742294312\n",
            "Minibatch loss at step 2850: 0.25160709023475647\n",
            "Minibatch loss at step 2900: 0.23216655850410461\n",
            "Minibatch loss at step 2950: 0.24031199514865875\n",
            "Minibatch loss at step 3000: 0.3097584843635559\n",
            "Minibatch loss at step 3050: 0.2399638295173645\n",
            "Minibatch loss at step 3100: 0.2093006670475006\n",
            "Minibatch loss at step 3150: 0.2876410484313965\n",
            "Minibatch loss at step 3200: 0.46464526653289795\n",
            "Minibatch loss at step 3250: 0.29274219274520874\n",
            "Minibatch loss at step 3300: 0.19508324563503265\n",
            "Minibatch loss at step 3350: 0.2517557740211487\n",
            "Minibatch loss at step 3400: 0.2996412515640259\n",
            "Minibatch loss at step 3450: 0.24447065591812134\n",
            "Minibatch loss at step 3500: 0.32587695121765137\n",
            "Minibatch loss at step 3550: 0.12122883647680283\n",
            "Minibatch loss at step 3600: 0.2901836633682251\n",
            "Minibatch loss at step 3650: 0.22108182311058044\n",
            "Minibatch loss at step 3700: 0.2667367458343506\n",
            "Minibatch loss at step 3750: 0.10294231027364731\n",
            "Minibatch loss at step 3800: 0.18641242384910583\n",
            "Minibatch loss at step 3850: 0.4209538996219635\n",
            "Minibatch loss at step 3900: 0.20864255726337433\n",
            "Minibatch loss at step 3950: 0.16369915008544922\n",
            "Minibatch loss at step 4000: 0.2344834953546524\n",
            "Minibatch loss at step 4050: 0.24482479691505432\n",
            "Minibatch loss at step 4100: 0.19985932111740112\n",
            "Minibatch loss at step 4150: 0.20128276944160461\n",
            "Minibatch loss at step 4200: 0.21710991859436035\n",
            "Minibatch loss at step 4250: 0.27003908157348633\n",
            "Minibatch loss at step 4300: 0.48209577798843384\n",
            "Minibatch loss at step 4350: 0.2802106440067291\n",
            "Minibatch loss at step 4400: 0.1564761996269226\n",
            "Minibatch loss at step 4450: 0.3129424452781677\n",
            "Minibatch loss at step 4500: 0.16209959983825684\n",
            "Minibatch loss at step 4550: 0.25423550605773926\n",
            "Minibatch loss at step 4600: 0.3653919994831085\n",
            "Minibatch loss at step 4650: 0.4722483158111572\n",
            "Minibatch loss at step 4700: 0.38333654403686523\n",
            "Minibatch loss at step 4750: 0.29667338728904724\n",
            "Minibatch loss at step 4800: 0.2301120012998581\n",
            "Minibatch loss at step 4850: 0.29991406202316284\n",
            "Minibatch loss at step 4900: 0.1707775890827179\n",
            "Minibatch loss at step 4950: 0.24991054832935333\n",
            "Minibatch loss at step 5000: 0.2276148796081543\n",
            "Minibatch loss at step 5050: 0.340355783700943\n",
            "Minibatch loss at step 5100: 0.17862346768379211\n",
            "Minibatch loss at step 5150: 0.14878913760185242\n",
            "Minibatch loss at step 5200: 0.3386273980140686\n",
            "Minibatch loss at step 5250: 0.2751554250717163\n",
            "Minibatch loss at step 5300: 0.17159293591976166\n",
            "Minibatch loss at step 5350: 0.274225115776062\n",
            "Minibatch loss at step 5400: 0.5057876110076904\n",
            "Minibatch loss at step 5450: 0.33048000931739807\n",
            "Minibatch loss at step 5500: 0.2641696631908417\n",
            "Minibatch loss at step 5550: 0.22121894359588623\n",
            "Minibatch loss at step 5600: 0.24774065613746643\n",
            "Minibatch loss at step 5650: 0.20994731783866882\n",
            "Minibatch loss at step 5700: 0.2450415939092636\n",
            "Minibatch loss at step 5750: 0.3073417842388153\n",
            "Minibatch loss at step 5800: 0.2619470953941345\n",
            "Minibatch loss at step 5850: 0.2143269181251526\n",
            "Minibatch loss at step 5900: 0.3207813501358032\n",
            "Minibatch loss at step 5950: 0.46209263801574707\n",
            "Minibatch loss at step 6000: 0.21981164813041687\n",
            "Minibatch loss at step 6050: 0.2725529670715332\n",
            "Minibatch loss at step 6100: 0.3042418956756592\n",
            "Minibatch loss at step 6150: 0.37150877714157104\n",
            "Minibatch loss at step 6200: 0.18511974811553955\n",
            "Minibatch loss at step 6250: 0.19315992295742035\n",
            "Minibatch loss at step 6300: 0.20415285229682922\n",
            "Minibatch loss at step 6350: 0.29682692885398865\n",
            "Minibatch loss at step 6400: 0.2099866271018982\n",
            "Minibatch loss at step 6450: 0.19994068145751953\n",
            "Minibatch loss at step 6500: 0.22223389148712158\n",
            "Minibatch loss at step 6550: 0.28034844994544983\n",
            "Minibatch loss at step 6600: 0.24534368515014648\n",
            "Minibatch loss at step 6650: 0.24816760420799255\n",
            "Minibatch loss at step 6700: 0.2823304235935211\n",
            "Minibatch loss at step 6750: 0.3195367455482483\n",
            "Minibatch loss at step 6800: 0.23666620254516602\n",
            "Minibatch loss at step 6850: 0.24567332863807678\n",
            "Minibatch loss at step 6900: 0.3191164433956146\n",
            "Minibatch loss at step 6950: 0.27121931314468384\n",
            "Minibatch loss at step 7000: 0.19128940999507904\n",
            "Minibatch loss at step 7050: 0.29235637187957764\n",
            "Minibatch loss at step 7100: 0.1887061595916748\n",
            "Minibatch loss at step 7150: 0.3392142653465271\n",
            "Minibatch loss at step 7200: 0.24655401706695557\n",
            "Minibatch loss at step 7250: 0.28890055418014526\n",
            "Minibatch loss at step 7300: 0.1439393311738968\n",
            "Minibatch loss at step 7350: 0.19678941369056702\n",
            "Minibatch loss at step 7400: 0.3964650630950928\n",
            "Minibatch loss at step 7450: 0.28821155428886414\n",
            "Minibatch loss at step 7500: 0.16676826775074005\n",
            "Minibatch loss at step 7550: 0.19372135400772095\n",
            "Minibatch loss at step 7600: 0.3056354522705078\n",
            "Minibatch loss at step 7650: 0.19867253303527832\n",
            "Minibatch loss at step 7700: 0.24705034494400024\n",
            "Minibatch loss at step 7750: 0.20058497786521912\n",
            "Minibatch loss at step 7800: 0.18909813463687897\n",
            "Minibatch loss at step 7850: 0.22924476861953735\n",
            "Minibatch loss at step 7900: 0.4021378755569458\n",
            "Minibatch loss at step 7950: 0.12020973861217499\n",
            "Minibatch loss at step 8000: 0.26168352365493774\n",
            "Minibatch loss at step 8050: 0.17217552661895752\n",
            "Minibatch loss at step 8100: 0.17833004891872406\n",
            "Minibatch loss at step 8150: 0.22787687182426453\n",
            "Minibatch loss at step 8200: 0.24811288714408875\n",
            "Minibatch loss at step 8250: 0.3036618232727051\n",
            "Minibatch loss at step 8300: 0.3186063766479492\n",
            "Minibatch loss at step 8350: 0.336980938911438\n",
            "Minibatch loss at step 8400: 0.1809958517551422\n",
            "Minibatch loss at step 8450: 0.33075857162475586\n",
            "Minibatch loss at step 8500: 0.21087752282619476\n",
            "Minibatch loss at step 8550: 0.25300168991088867\n",
            "Minibatch loss at step 8600: 0.252854585647583\n",
            "Minibatch loss at step 8650: 0.428853303194046\n",
            "Minibatch loss at step 8700: 0.20053061842918396\n",
            "Minibatch loss at step 8750: 0.18357570469379425\n",
            "Minibatch loss at step 8800: 0.25866401195526123\n",
            "Minibatch loss at step 8850: 0.24062298238277435\n",
            "Minibatch loss at step 8900: 0.16030672192573547\n",
            "Minibatch loss at step 8950: 0.16952824592590332\n",
            "Minibatch loss at step 9000: 0.21373742818832397\n",
            "Minibatch loss at step 9050: 0.29982227087020874\n",
            "Minibatch loss at step 9100: 0.345286101102829\n",
            "Minibatch loss at step 9150: 0.21570420265197754\n",
            "Minibatch loss at step 9200: 0.2845773696899414\n",
            "Minibatch loss at step 9250: 0.2106599360704422\n",
            "Minibatch loss at step 9300: 0.3856448829174042\n",
            "Minibatch loss at step 9350: 0.28352096676826477\n",
            "Minibatch loss at step 9400: 0.21788987517356873\n",
            "Minibatch loss at step 9450: 0.1492280513048172\n",
            "Minibatch loss at step 9500: 0.21726487576961517\n",
            "Minibatch loss at step 9550: 0.1205902025103569\n",
            "Minibatch loss at step 9600: 0.2484208643436432\n",
            "Minibatch loss at step 9650: 0.2840164601802826\n",
            "Minibatch loss at step 9700: 0.25364378094673157\n",
            "Minibatch loss at step 9750: 0.3122847080230713\n",
            "Minibatch loss at step 9800: 0.2753182351589203\n",
            "Minibatch loss at step 9850: 0.31120026111602783\n",
            "Minibatch loss at step 9900: 0.2469247281551361\n",
            "Minibatch loss at step 9950: 0.2958291172981262\n",
            "Training time: 35.77145028114319s\n"
          ],
          "name": "stdout"
        }
      ]
    },
    {
      "metadata": {
        "id": "LoHXz43gI5sv",
        "colab_type": "code",
        "outputId": "06b37469-72cc-42bc-9b96-26b1d399f083",
        "colab": {
          "base_uri": "https://localhost:8080/",
          "height": 34
        }
      },
      "cell_type": "code",
      "source": [
        "losses = np.array(losses)\n",
        "print(losses.shape)"
      ],
      "execution_count": 0,
      "outputs": [
        {
          "output_type": "stream",
          "text": [
            "(200, 2)\n"
          ],
          "name": "stdout"
        }
      ]
    },
    {
      "metadata": {
        "id": "PW1nGCxCI5s4",
        "colab_type": "code",
        "outputId": "11dbdb42-e09b-4a17-d3c5-11fe31981dd5",
        "colab": {
          "base_uri": "https://localhost:8080/",
          "height": 349
        }
      },
      "cell_type": "code",
      "source": [
        "import matplotlib.pyplot as plt\n",
        "\n",
        "iterations = losses[:, 0]\n",
        "train_loss = losses[:, 1]\n",
        "plt.figure(figsize=(10, 5))\n",
        "plt.plot(iterations, train_loss)\n",
        "plt.xlabel(\"Iterations\")\n",
        "plt.ylabel(\"Loss\")\n",
        "plt.title(\"Training curve\")\n",
        "plt.show()"
      ],
      "execution_count": 0,
      "outputs": [
        {
          "output_type": "display_data",
          "data": {
            "image/png": "[encoded data removed]",
            "text/plain": [
              "<matplotlib.figure.Figure at 0x7fb4c0790198>"
            ]
          },
          "metadata": {
            "tags": []
          }
        }
      ]
    },
    {
      "metadata": {
        "id": "JRRAbLxpI5s_",
        "colab_type": "code",
        "outputId": "d4c4d026-025a-48d5-ce9f-5ca3fd1f87bf",
        "colab": {
          "base_uri": "https://localhost:8080/",
          "height": 34
        }
      },
      "cell_type": "code",
      "source": [
        "TEST_BATCH_SIZE = 128\n",
        "\n",
        "model.test(test_set_flat, test_label_one_hot, TEST_BATCH_SIZE)"
      ],
      "execution_count": 0,
      "outputs": [
        {
          "output_type": "stream",
          "text": [
            "Average test loss: 0.2450876384973526\n"
          ],
          "name": "stdout"
        }
      ]
    },
    {
      "metadata": {
        "scrolled": true,
        "id": "dGZI4TxUI5tJ",
        "colab_type": "code",
        "outputId": "cb58813d-bd29-4ee2-f58e-5851423fc506",
        "colab": {
          "base_uri": "https://localhost:8080/",
          "height": 437
        }
      },
      "cell_type": "code",
      "source": [
        "example = np.random.choice(np.arange(n_test)) #randomly choose a index from n_test\n",
        "\n",
        "sample = np.expand_dims(test_set_flat[example], axis=0)\n",
        "label = np.expand_dims(test_label_one_hot[example], axis=0)\n",
        "\n",
        "digit = np.where(label[0]==1.0)[0][0] #extract the real digit, (index) from one_hot vector\n",
        "\n",
        "feed_dict = {model.input: sample, model.ground_truth: label}\n",
        "prediction = model.sess.run(model.prediction, feed_dict=feed_dict)[0]\n",
        "\n",
        "image = np.reshape(sample, (28, 28))\n",
        "\n",
        "print(\"Test sample digit: {}\".format(digit))\n",
        "fig, ax = plt.subplots(1, 2, figsize=(17, 5))\n",
        "ax[0].imshow(image, cmap='gray')\n",
        "ax[0].set_title(\"Test example\")\n",
        "\n",
        "classes = np.arange(10)\n",
        "width = 1.0\n",
        "\n",
        "ax[1].bar(classes, prediction, width, color='Blue')\n",
        "ax[1].set_ylabel('Probabilities')\n",
        "ax[1].set_title('Network categorical distribution')\n",
        "ax[1].set_xticks(classes)\n",
        "ax[1].set_xticklabels(('0', '1', '2', '3', '4', '5', '6', '7', '8', '9'))\n",
        "ax[1].set_xlabel('Digit class')\n",
        "\n",
        "plt.show()\n",
        "\n",
        "print(\"Network prediction probabilities:\")\n",
        "print(prediction)"
      ],
      "execution_count": 0,
      "outputs": [
        {
          "output_type": "stream",
          "text": [
            "Test sample digit: 2\n"
          ],
          "name": "stdout"
        },
        {
          "output_type": "display_data",
          "data": {
            "image/png": "[encoded data removed]",
            "text/plain": [
              "<matplotlib.figure.Figure at 0x7fb4c06d9588>"
            ]
          },
          "metadata": {
            "tags": []
          }
        },
        {
          "output_type": "stream",
          "text": [
            "Network prediction probabilities:\n",
            "[5.7876509e-06 1.6783337e-05 9.9644995e-01 9.6830721e-05 3.1065617e-03\n",
            " 6.4947909e-07 2.4302672e-04 6.6017390e-05 1.2015222e-05 2.3646380e-06]\n"
          ],
          "name": "stdout"
        }
      ]
    },
    {
      "metadata": {
        "id": "fcFn7RrAI5tU",
        "colab_type": "code",
        "outputId": "1b14f1f0-4cc9-4138-f91c-d63d3ff8b68c",
        "colab": {
          "base_uri": "https://localhost:8080/",
          "height": 51
        }
      },
      "cell_type": "code",
      "source": [
        "train_time = end_time - start_time\n",
        "print('total training time : {} s, or {} min {} s'.format(train_time, int(train_time/60), train_time%60))\n",
        "count = len(tf.global_variables())\n",
        "print('total parameters involved :', count)"
      ],
      "execution_count": 0,
      "outputs": [
        {
          "output_type": "stream",
          "text": [
            "total training time : 35.77145028114319 s, or 0 min 35.77145028114319 s\n",
            "total parameters involved : 26\n"
          ],
          "name": "stdout"
        }
      ]
    },
    {
      "metadata": {
        "id": "jh0sQF4eI5tg",
        "colab_type": "code",
        "colab": {}
      },
      "cell_type": "code",
      "source": [
        "model.sess.close()"
      ],
      "execution_count": 0,
      "outputs": []
    }
  ]
}