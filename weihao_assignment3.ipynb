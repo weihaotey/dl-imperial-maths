{
  "nbformat": 4,
  "nbformat_minor": 0,
  "metadata": {
    "colab": {
      "name": "weihao_assignment3.ipynb",
      "version": "0.3.2",
      "provenance": []
    },
    "kernelspec": {
      "name": "python3",
      "display_name": "Python 3"
    },
    "accelerator": "GPU"
  },
  "cells": [
    {
      "metadata": {
        "id": "tayA7r2uNUxD",
        "colab_type": "text"
      },
      "cell_type": "markdown",
      "source": [
        "#Assignment 3\n",
        "\n",
        "##Convolutional neural network\n",
        "\n"
      ]
    },
    {
      "metadata": {
        "id": "Ql_ZJQkXTpYS",
        "colab_type": "code",
        "colab": {}
      },
      "cell_type": "code",
      "source": [
        "import tensorflow as tf\n",
        "import numpy as np\n",
        "\n",
        "def load_mnist(path, kind='train'):\n",
        "    import os\n",
        "    import gzip\n",
        "\n",
        "    \"\"\"Load MNIST data from `path`\"\"\"\n",
        "    labels_path = os.path.join(path,\n",
        "                               '%s-labels-idx1-ubyte.gz'\n",
        "                               % kind)\n",
        "    images_path = os.path.join(path,\n",
        "                               '%s-images-idx3-ubyte.gz'\n",
        "                               % kind)\n",
        "    \n",
        "    '''extract file from MNIST file and seperate label and training file'''\n",
        "    with gzip.open(labels_path, 'rb') as lbpath:\n",
        "        labels = np.frombuffer(lbpath.read(), dtype=np.uint8,\n",
        "                               offset=8)\n",
        "\n",
        "    with gzip.open(images_path, 'rb') as imgpath:\n",
        "        images = np.frombuffer(imgpath.read(), dtype=np.uint8,\n",
        "                               offset=16).reshape(len(labels), 28, 28)\n",
        "\n",
        "    return images, labels\n",
        "  \n",
        "\n",
        "train_X, train_Y = load_mnist('', kind='train')\n",
        "test_X, test_Y = load_mnist('', kind='t10k')\n",
        "\n",
        "train_set = np.expand_dims(train_X, axis=3)\n",
        "train_label = np.expand_dims(train_Y, axis=1)\n",
        "test_set = np.expand_dims(test_X, axis=3)\n",
        "test_label = np.expand_dims(test_Y, axis=1)\n",
        "\n",
        "n_train = len(train_set)\n",
        "n_test = len(test_set)\n"
      ],
      "execution_count": 0,
      "outputs": []
    },
    {
      "metadata": {
        "id": "FmV-xfsWTpY-",
        "colab_type": "code",
        "outputId": "0a4b1adb-016b-400b-a4fe-97cbb6054c49",
        "colab": {
          "base_uri": "https://localhost:8080/",
          "height": 51
        }
      },
      "cell_type": "code",
      "source": [
        "def one_hot(labels):\n",
        "    \"\"\"\n",
        "    Encodes the labels as one-hot vectors. Zero is represented as 10 in SVHN.\n",
        "    [10] -> [1, 0, 0, 0, 0, 0, 0, 0, 0, 0]\n",
        "    [2] -> [0, 0, 1, 0, 0, 0, 0, 0, 0, 0]\n",
        "    \n",
        "    \"\"\"\n",
        "    labels = np.squeeze(labels)\n",
        "    one_hot_labels = []\n",
        "    for num in labels:\n",
        "        one_hot = [0.0] * 10\n",
        "        if num == 10:\n",
        "            one_hot[0] = 1.0\n",
        "        else:\n",
        "            one_hot[num] = 1.0\n",
        "        one_hot_labels.append(one_hot)\n",
        "    labels = np.array(one_hot_labels).astype(np.float32)\n",
        "    return labels\n",
        "\n",
        "train_label_one_hot = one_hot(train_label)\n",
        "test_label_one_hot = one_hot(test_label)\n",
        "\n",
        "print(train_label_one_hot.shape)\n",
        "print(test_label_one_hot.shape)"
      ],
      "execution_count": 0,
      "outputs": [
        {
          "output_type": "stream",
          "text": [
            "(60000, 10)\n",
            "(10000, 10)\n"
          ],
          "name": "stdout"
        }
      ]
    },
    {
      "metadata": {
        "id": "i48PefM8Rsgl",
        "colab_type": "text"
      },
      "cell_type": "markdown",
      "source": [
        "##Parameters\n",
        "\n",
        "Convolutional layer:\n",
        "\n",
        "- first layer: filters:32, kernel size: 11x11, strides:4\n",
        "- second layer: filters:64, kernel size: 5x5, strides:1\n",
        "- third layer: filters:64, kernel size: 5x5, strides:1\n",
        "\n",
        "Down sample:\n",
        "- pooling size: 2, strides: 2\n",
        "\n",
        "Dropout rate: 0.25"
      ]
    },
    {
      "metadata": {
        "id": "6mbxTZDgTpZJ",
        "colab_type": "code",
        "colab": {}
      },
      "cell_type": "code",
      "source": [
        "class SVHN_CNN:\n",
        "    def __init__(self, wd_factor, learning_rate): #initialize all the variable to be used in the other functions\n",
        "        self.wd_factor = wd_factor\n",
        "        self.learning_rate = learning_rate\n",
        "        self.train_pointer = 0\n",
        "        self.test_pointer = 0\n",
        "        \n",
        "        self.input = tf.placeholder(dtype=tf.float32, shape=[None, 28, 28, 1], name='input') #to make a 28 times 28 minipatch swipe\n",
        "        self.ground_truth = tf.placeholder(dtype=tf.float32, shape=[None, 10], name='ground_truth')\n",
        "        \n",
        "        # For batch norm and dropout\n",
        "        self.is_training = tf.placeholder(tf.bool, name='is_training')\n",
        "        print(self.input)\n",
        "        \n",
        "        self._build_graph()\n",
        "        \n",
        "    def _build_graph(self):\n",
        "        weights = []  # for weight decay\n",
        "        \n",
        "        with tf.variable_scope('layers'):\n",
        "            h = tf.layers.conv2d(self.input, 32, (11, 11), strides=(4, 4), padding='same', \n",
        "                                 data_format='channels_last', activation=None, use_bias=True,\n",
        "                                 kernel_initializer=tf.glorot_uniform_initializer(), name='conv1')\n",
        "            print(h)\n",
        "            \n",
        "            h = tf.layers.batch_normalization(h, training=self.is_training)\n",
        "            h = tf.nn.relu(h)\n",
        "            h = tf.layers.conv2d(h, 64, (5, 5), strides=(1, 1), padding='same', \n",
        "                                 data_format='channels_last', activation=None, use_bias=True,\n",
        "                                 kernel_initializer=tf.glorot_uniform_initializer(), name='conv2')\n",
        "            \n",
        "            h = tf.layers.batch_normalization(h, training=self.is_training)\n",
        "            h = tf.nn.relu(h)\n",
        "            h = tf.layers.conv2d(h, 64, (3, 3), strides=(1, 1), padding='same', \n",
        "                                 data_format='channels_last', activation=None, use_bias=True,\n",
        "                                 kernel_initializer=tf.glorot_uniform_initializer(), name='conv3')\n",
        "            \n",
        "            # Downsample\n",
        "            h = tf.layers.max_pooling2d(h, (2, 2), (2, 2), padding='valid', name='pool1')\n",
        "            print(h)\n",
        "            \n",
        "            # Fully connected layers\n",
        "            h = tf.layers.batch_normalization(h, training=self.is_training)\n",
        "            h = tf.nn.relu(h)\n",
        "            h = tf.layers.flatten(h)\n",
        "            print(h)\n",
        "            \n",
        "            h = tf.layers.dense(h, 32, kernel_initializer=tf.glorot_uniform_initializer(), \n",
        "                                activation=tf.nn.relu, name='dense1')\n",
        "            print(h)\n",
        "            h = tf.layers.dropout(h, rate=0.25, training=self.is_training, name='dropout1')\n",
        "            print(h)\n",
        "            \n",
        "            self.logits = tf.layers.dense(h, 10, kernel_initializer=tf.glorot_uniform_initializer(), \n",
        "                                          activation=tf.identity, name='dense2')\n",
        "            print(self.logits)\n",
        "            self.prediction = tf.nn.softmax(self.logits, name='softmax_prediction')\n",
        "            \n",
        "        with tf.name_scope('loss'):\n",
        "            self.loss = tf.reduce_mean(tf.nn.softmax_cross_entropy_with_logits_v2(logits=self.logits, \n",
        "                                                                                  labels=self.ground_truth))\n",
        "            self.loss += self.weight_decay()\n",
        "            \n",
        "        self.optimizer = tf.train.AdamOptimizer(self.learning_rate)\n",
        "        \n",
        "        update_ops = tf.get_collection(tf.GraphKeys.UPDATE_OPS)\n",
        "        with tf.control_dependencies(update_ops):\n",
        "            self.train_op = self.optimizer.minimize(self.loss)\n",
        "            \n",
        "    def weight_decay(self):\n",
        "        loss = 0\n",
        "        for v in tf.global_variables():\n",
        "            if 'Adam' in v.name:\n",
        "                continue\n",
        "            elif 'kernel' in v.name:\n",
        "                loss += self.wd_factor * tf.nn.l2_loss(v)\n",
        "        print(loss)\n",
        "        return loss\n",
        "    \n",
        "    def train_minibatch(self, samples, labels, batch_size):\n",
        "        if self.train_pointer + batch_size <= samples.shape[0]:\n",
        "            samples_minibatch = samples[self.train_pointer: self.train_pointer + batch_size]\n",
        "            labels_minibatch = labels[self.train_pointer: self.train_pointer + batch_size]\n",
        "            self.train_pointer += batch_size\n",
        "        else:\n",
        "            samples_minibatch = samples[self.train_pointer:]\n",
        "            labels_minibatch = labels[self.train_pointer:]\n",
        "            self.train_pointer = 0\n",
        "        return samples_minibatch, labels_minibatch\n",
        "\n",
        "    def train(self, train_samples, train_labels, train_batch_size, iteration_steps):\n",
        "        print('Start Training')\n",
        "        losses = []\n",
        "        \n",
        "        with tf.Session() as sess:\n",
        "            sess.run(tf.global_variables_initializer())\n",
        "            saver = tf.train.Saver()\n",
        "            \n",
        "            for i in range(iteration_steps):\n",
        "                samples, labels = self.train_minibatch(train_samples, train_labels, train_batch_size)\n",
        "                \n",
        "                feed_dict = {self.input: samples, self.ground_truth: labels, self.is_training: True}\n",
        "                _, loss = sess.run([self.train_op, self.loss], feed_dict=feed_dict)\n",
        "                \n",
        "                if i % 50 == 0:\n",
        "                    print(\"Minibatch loss at step {}: {}\".format(i, loss))\n",
        "                    losses.append([i, loss])\n",
        "                    \n",
        "            saver.save(sess, './model')\n",
        "        return losses\n",
        "                    \n",
        "    def test_minibatch(self, samples, labels, batch_size):\n",
        "        if self.test_pointer + batch_size <= samples.shape[0]:\n",
        "            samples_minibatch = samples[self.test_pointer: self.test_pointer + batch_size]\n",
        "            labels_minibatch = labels[self.test_pointer: self.test_pointer + batch_size]\n",
        "            self.test_pointer += batch_size\n",
        "            end_of_epoch = False\n",
        "        else:\n",
        "            samples_minibatch = samples[self.test_pointer:]\n",
        "            labels_minibatch = labels[self.test_pointer:]\n",
        "            self.test_pointer = 0\n",
        "            end_of_epoch = True\n",
        "        return samples_minibatch, labels_minibatch, end_of_epoch\n",
        "            \n",
        "    def test(self, test_samples, test_labels, test_batch_size):\n",
        "        self.test_pointer = 0\n",
        "        end_of_epoch = False\n",
        "        losses = []\n",
        "        \n",
        "        with tf.Session() as sess:\n",
        "            saver = tf.train.import_meta_graph(\"./model.meta\")\n",
        "            saver.restore(sess, './model')\n",
        "            while not end_of_epoch:\n",
        "                samples, labels, end_of_epoch = self.test_minibatch(test_samples, test_labels, test_batch_size)\n",
        "                feed_dict = {self.input: samples, self.ground_truth: labels, self.is_training: False}\n",
        "                losses.append(sess.run(self.loss, feed_dict=feed_dict))  \n",
        "        print(\"Average test loss: {}\".format(np.mean(losses)))"
      ],
      "execution_count": 0,
      "outputs": []
    },
    {
      "metadata": {
        "id": "i8jEwQeuTpZP",
        "colab_type": "code",
        "outputId": "a41d2614-4540-4e1a-a1f6-5fa8d81c6a0f",
        "colab": {
          "base_uri": "https://localhost:8080/",
          "height": 153
        }
      },
      "cell_type": "code",
      "source": [
        "WD_FACTOR = 0.0\n",
        "LEARNING_RATE = 0.001\n",
        "model = SVHN_CNN(WD_FACTOR, LEARNING_RATE)"
      ],
      "execution_count": 0,
      "outputs": [
        {
          "output_type": "stream",
          "text": [
            "Tensor(\"input:0\", shape=(?, 28, 28, 1), dtype=float32)\n",
            "Tensor(\"layers/conv1/BiasAdd:0\", shape=(?, 7, 7, 32), dtype=float32)\n",
            "Tensor(\"layers/pool1/MaxPool:0\", shape=(?, 3, 3, 64), dtype=float32)\n",
            "Tensor(\"layers/flatten/Reshape:0\", shape=(?, 576), dtype=float32)\n",
            "Tensor(\"layers/dense1/Relu:0\", shape=(?, 32), dtype=float32)\n",
            "Tensor(\"layers/dropout1/cond/Merge:0\", shape=(?, 32), dtype=float32)\n",
            "Tensor(\"layers/dense2/Identity:0\", shape=(?, 10), dtype=float32)\n",
            "Tensor(\"loss/add_4:0\", shape=(), dtype=float32)\n"
          ],
          "name": "stdout"
        }
      ]
    },
    {
      "metadata": {
        "id": "mNL8Hwz4TpZa",
        "colab_type": "code",
        "outputId": "cacbb415-4d38-44e0-e1d5-36e6e1548338",
        "colab": {
          "base_uri": "https://localhost:8080/",
          "height": 969
        }
      },
      "cell_type": "code",
      "source": [
        "tf.global_variables()"
      ],
      "execution_count": 0,
      "outputs": [
        {
          "output_type": "execute_result",
          "data": {
            "text/plain": [
              "[<tf.Variable 'layers/conv1/kernel:0' shape=(11, 11, 1, 32) dtype=float32_ref>,\n",
              " <tf.Variable 'layers/conv1/bias:0' shape=(32,) dtype=float32_ref>,\n",
              " <tf.Variable 'layers/batch_normalization/gamma:0' shape=(32,) dtype=float32_ref>,\n",
              " <tf.Variable 'layers/batch_normalization/beta:0' shape=(32,) dtype=float32_ref>,\n",
              " <tf.Variable 'layers/batch_normalization/moving_mean:0' shape=(32,) dtype=float32_ref>,\n",
              " <tf.Variable 'layers/batch_normalization/moving_variance:0' shape=(32,) dtype=float32_ref>,\n",
              " <tf.Variable 'layers/conv2/kernel:0' shape=(5, 5, 32, 64) dtype=float32_ref>,\n",
              " <tf.Variable 'layers/conv2/bias:0' shape=(64,) dtype=float32_ref>,\n",
              " <tf.Variable 'layers/batch_normalization_1/gamma:0' shape=(64,) dtype=float32_ref>,\n",
              " <tf.Variable 'layers/batch_normalization_1/beta:0' shape=(64,) dtype=float32_ref>,\n",
              " <tf.Variable 'layers/batch_normalization_1/moving_mean:0' shape=(64,) dtype=float32_ref>,\n",
              " <tf.Variable 'layers/batch_normalization_1/moving_variance:0' shape=(64,) dtype=float32_ref>,\n",
              " <tf.Variable 'layers/conv3/kernel:0' shape=(3, 3, 64, 64) dtype=float32_ref>,\n",
              " <tf.Variable 'layers/conv3/bias:0' shape=(64,) dtype=float32_ref>,\n",
              " <tf.Variable 'layers/batch_normalization_2/gamma:0' shape=(64,) dtype=float32_ref>,\n",
              " <tf.Variable 'layers/batch_normalization_2/beta:0' shape=(64,) dtype=float32_ref>,\n",
              " <tf.Variable 'layers/batch_normalization_2/moving_mean:0' shape=(64,) dtype=float32_ref>,\n",
              " <tf.Variable 'layers/batch_normalization_2/moving_variance:0' shape=(64,) dtype=float32_ref>,\n",
              " <tf.Variable 'layers/dense1/kernel:0' shape=(576, 32) dtype=float32_ref>,\n",
              " <tf.Variable 'layers/dense1/bias:0' shape=(32,) dtype=float32_ref>,\n",
              " <tf.Variable 'layers/dense2/kernel:0' shape=(32, 10) dtype=float32_ref>,\n",
              " <tf.Variable 'layers/dense2/bias:0' shape=(10,) dtype=float32_ref>,\n",
              " <tf.Variable 'beta1_power:0' shape=() dtype=float32_ref>,\n",
              " <tf.Variable 'beta2_power:0' shape=() dtype=float32_ref>,\n",
              " <tf.Variable 'layers/conv1/kernel/Adam:0' shape=(11, 11, 1, 32) dtype=float32_ref>,\n",
              " <tf.Variable 'layers/conv1/kernel/Adam_1:0' shape=(11, 11, 1, 32) dtype=float32_ref>,\n",
              " <tf.Variable 'layers/conv1/bias/Adam:0' shape=(32,) dtype=float32_ref>,\n",
              " <tf.Variable 'layers/conv1/bias/Adam_1:0' shape=(32,) dtype=float32_ref>,\n",
              " <tf.Variable 'layers/batch_normalization/gamma/Adam:0' shape=(32,) dtype=float32_ref>,\n",
              " <tf.Variable 'layers/batch_normalization/gamma/Adam_1:0' shape=(32,) dtype=float32_ref>,\n",
              " <tf.Variable 'layers/batch_normalization/beta/Adam:0' shape=(32,) dtype=float32_ref>,\n",
              " <tf.Variable 'layers/batch_normalization/beta/Adam_1:0' shape=(32,) dtype=float32_ref>,\n",
              " <tf.Variable 'layers/conv2/kernel/Adam:0' shape=(5, 5, 32, 64) dtype=float32_ref>,\n",
              " <tf.Variable 'layers/conv2/kernel/Adam_1:0' shape=(5, 5, 32, 64) dtype=float32_ref>,\n",
              " <tf.Variable 'layers/conv2/bias/Adam:0' shape=(64,) dtype=float32_ref>,\n",
              " <tf.Variable 'layers/conv2/bias/Adam_1:0' shape=(64,) dtype=float32_ref>,\n",
              " <tf.Variable 'layers/batch_normalization_1/gamma/Adam:0' shape=(64,) dtype=float32_ref>,\n",
              " <tf.Variable 'layers/batch_normalization_1/gamma/Adam_1:0' shape=(64,) dtype=float32_ref>,\n",
              " <tf.Variable 'layers/batch_normalization_1/beta/Adam:0' shape=(64,) dtype=float32_ref>,\n",
              " <tf.Variable 'layers/batch_normalization_1/beta/Adam_1:0' shape=(64,) dtype=float32_ref>,\n",
              " <tf.Variable 'layers/conv3/kernel/Adam:0' shape=(3, 3, 64, 64) dtype=float32_ref>,\n",
              " <tf.Variable 'layers/conv3/kernel/Adam_1:0' shape=(3, 3, 64, 64) dtype=float32_ref>,\n",
              " <tf.Variable 'layers/conv3/bias/Adam:0' shape=(64,) dtype=float32_ref>,\n",
              " <tf.Variable 'layers/conv3/bias/Adam_1:0' shape=(64,) dtype=float32_ref>,\n",
              " <tf.Variable 'layers/batch_normalization_2/gamma/Adam:0' shape=(64,) dtype=float32_ref>,\n",
              " <tf.Variable 'layers/batch_normalization_2/gamma/Adam_1:0' shape=(64,) dtype=float32_ref>,\n",
              " <tf.Variable 'layers/batch_normalization_2/beta/Adam:0' shape=(64,) dtype=float32_ref>,\n",
              " <tf.Variable 'layers/batch_normalization_2/beta/Adam_1:0' shape=(64,) dtype=float32_ref>,\n",
              " <tf.Variable 'layers/dense1/kernel/Adam:0' shape=(576, 32) dtype=float32_ref>,\n",
              " <tf.Variable 'layers/dense1/kernel/Adam_1:0' shape=(576, 32) dtype=float32_ref>,\n",
              " <tf.Variable 'layers/dense1/bias/Adam:0' shape=(32,) dtype=float32_ref>,\n",
              " <tf.Variable 'layers/dense1/bias/Adam_1:0' shape=(32,) dtype=float32_ref>,\n",
              " <tf.Variable 'layers/dense2/kernel/Adam:0' shape=(32, 10) dtype=float32_ref>,\n",
              " <tf.Variable 'layers/dense2/kernel/Adam_1:0' shape=(32, 10) dtype=float32_ref>,\n",
              " <tf.Variable 'layers/dense2/bias/Adam:0' shape=(10,) dtype=float32_ref>,\n",
              " <tf.Variable 'layers/dense2/bias/Adam_1:0' shape=(10,) dtype=float32_ref>]"
            ]
          },
          "metadata": {
            "tags": []
          },
          "execution_count": 6
        }
      ]
    },
    {
      "metadata": {
        "id": "NDtb29OrTpZn",
        "colab_type": "code",
        "outputId": "6c947c9e-633f-4cfb-fb85-1ae2f2b6b63e",
        "colab": {
          "base_uri": "https://localhost:8080/",
          "height": 3451
        }
      },
      "cell_type": "code",
      "source": [
        "TRAIN_BATCH_SIZE = 128\n",
        "ITERATIONS = 10000\n",
        "\n",
        "import time\n",
        "start_time = time.time()\n",
        "\n",
        "losses = model.train(train_set, train_label_one_hot, TRAIN_BATCH_SIZE, ITERATIONS)\n",
        "\n",
        "end_time = time.time()\n",
        "print(\"Training time: {}s\".format(end_time - start_time))"
      ],
      "execution_count": 0,
      "outputs": [
        {
          "output_type": "stream",
          "text": [
            "Start Training\n",
            "Minibatch loss at step 0: 2.5582613945007324\n",
            "Minibatch loss at step 50: 0.34103575348854065\n",
            "Minibatch loss at step 100: 0.27529269456863403\n",
            "Minibatch loss at step 150: 0.23236215114593506\n",
            "Minibatch loss at step 200: 0.22255456447601318\n",
            "Minibatch loss at step 250: 0.2114444524049759\n",
            "Minibatch loss at step 300: 0.1589864194393158\n",
            "Minibatch loss at step 350: 0.11716384440660477\n",
            "Minibatch loss at step 400: 0.15190276503562927\n",
            "Minibatch loss at step 450: 0.17660868167877197\n",
            "Minibatch loss at step 500: 0.10386887192726135\n",
            "Minibatch loss at step 550: 0.035237349569797516\n",
            "Minibatch loss at step 600: 0.07842843979597092\n",
            "Minibatch loss at step 650: 0.06903687864542007\n",
            "Minibatch loss at step 700: 0.06841865926980972\n",
            "Minibatch loss at step 750: 0.12218177318572998\n",
            "Minibatch loss at step 800: 0.0682360902428627\n",
            "Minibatch loss at step 850: 0.032321833074092865\n",
            "Minibatch loss at step 900: 0.06667044758796692\n",
            "Minibatch loss at step 950: 0.06887619197368622\n",
            "Minibatch loss at step 1000: 0.05163899436593056\n",
            "Minibatch loss at step 1050: 0.0834563821554184\n",
            "Minibatch loss at step 1100: 0.1779477596282959\n",
            "Minibatch loss at step 1150: 0.12404676526784897\n",
            "Minibatch loss at step 1200: 0.022228248417377472\n",
            "Minibatch loss at step 1250: 0.027272585779428482\n",
            "Minibatch loss at step 1300: 0.0687132328748703\n",
            "Minibatch loss at step 1350: 0.07689060270786285\n",
            "Minibatch loss at step 1400: 0.0032033734023571014\n",
            "Minibatch loss at step 1450: 0.023693930357694626\n",
            "Minibatch loss at step 1500: 0.06360968202352524\n",
            "Minibatch loss at step 1550: 0.07193078100681305\n",
            "Minibatch loss at step 1600: 0.05200265720486641\n",
            "Minibatch loss at step 1650: 0.05148899927735329\n",
            "Minibatch loss at step 1700: 0.0210486501455307\n",
            "Minibatch loss at step 1750: 0.03334403783082962\n",
            "Minibatch loss at step 1800: 0.08851256966590881\n",
            "Minibatch loss at step 1850: 0.051691628992557526\n",
            "Minibatch loss at step 1900: 0.011373404413461685\n",
            "Minibatch loss at step 1950: 0.04790005087852478\n",
            "Minibatch loss at step 2000: 0.0399555079638958\n",
            "Minibatch loss at step 2050: 0.02172982506453991\n",
            "Minibatch loss at step 2100: 0.0372561551630497\n",
            "Minibatch loss at step 2150: 0.011211693286895752\n",
            "Minibatch loss at step 2200: 0.05281199887394905\n",
            "Minibatch loss at step 2250: 0.014870928600430489\n",
            "Minibatch loss at step 2300: 0.05299225449562073\n",
            "Minibatch loss at step 2350: 0.021685373038053513\n",
            "Minibatch loss at step 2400: 0.03775317594408989\n",
            "Minibatch loss at step 2450: 0.03111211210489273\n",
            "Minibatch loss at step 2500: 0.022575482726097107\n",
            "Minibatch loss at step 2550: 0.008796213194727898\n",
            "Minibatch loss at step 2600: 0.013042263686656952\n",
            "Minibatch loss at step 2650: 0.0023030259180814028\n",
            "Minibatch loss at step 2700: 0.05227885767817497\n",
            "Minibatch loss at step 2750: 0.07186141610145569\n",
            "Minibatch loss at step 2800: 0.003304275218397379\n",
            "Minibatch loss at step 2850: 0.01804429106414318\n",
            "Minibatch loss at step 2900: 0.0152667798101902\n",
            "Minibatch loss at step 2950: 0.006872369907796383\n",
            "Minibatch loss at step 3000: 0.06987747550010681\n",
            "Minibatch loss at step 3050: 0.008361735381186008\n",
            "Minibatch loss at step 3100: 0.019472014158964157\n",
            "Minibatch loss at step 3150: 0.06186187267303467\n",
            "Minibatch loss at step 3200: 0.02064434625208378\n",
            "Minibatch loss at step 3250: 0.028863873332738876\n",
            "Minibatch loss at step 3300: 0.011636490002274513\n",
            "Minibatch loss at step 3350: 0.018955092877149582\n",
            "Minibatch loss at step 3400: 0.007100715301930904\n",
            "Minibatch loss at step 3450: 0.05420985445380211\n",
            "Minibatch loss at step 3500: 0.019302241504192352\n",
            "Minibatch loss at step 3550: 0.0032308106310665607\n",
            "Minibatch loss at step 3600: 0.02125401794910431\n",
            "Minibatch loss at step 3650: 0.026695996522903442\n",
            "Minibatch loss at step 3700: 0.042310092598199844\n",
            "Minibatch loss at step 3750: 0.00037933755083940923\n",
            "Minibatch loss at step 3800: 0.042942821979522705\n",
            "Minibatch loss at step 3850: 0.009384015575051308\n",
            "Minibatch loss at step 3900: 0.011424802243709564\n",
            "Minibatch loss at step 3950: 0.0014031981118023396\n",
            "Minibatch loss at step 4000: 0.015032757073640823\n",
            "Minibatch loss at step 4050: 0.015264834277331829\n",
            "Minibatch loss at step 4100: 0.002929211361333728\n",
            "Minibatch loss at step 4150: 0.016977231949567795\n",
            "Minibatch loss at step 4200: 0.002792204264551401\n",
            "Minibatch loss at step 4250: 0.015076542273163795\n",
            "Minibatch loss at step 4300: 0.04712706804275513\n",
            "Minibatch loss at step 4350: 0.0010481789940968156\n",
            "Minibatch loss at step 4400: 0.00091412418987602\n",
            "Minibatch loss at step 4450: 0.004459105897694826\n",
            "Minibatch loss at step 4500: 0.010475469753146172\n",
            "Minibatch loss at step 4550: 0.02382221259176731\n",
            "Minibatch loss at step 4600: 0.005908540450036526\n",
            "Minibatch loss at step 4650: 0.020680677145719528\n",
            "Minibatch loss at step 4700: 0.006727383006364107\n",
            "Minibatch loss at step 4750: 0.023883456364274025\n",
            "Minibatch loss at step 4800: 0.002757561858743429\n",
            "Minibatch loss at step 4850: 0.0019065876258537173\n",
            "Minibatch loss at step 4900: 0.0038518428336828947\n",
            "Minibatch loss at step 4950: 0.023557748645544052\n",
            "Minibatch loss at step 5000: 0.014982042834162712\n",
            "Minibatch loss at step 5050: 0.009380397386848927\n",
            "Minibatch loss at step 5100: 0.015364713966846466\n",
            "Minibatch loss at step 5150: 0.0003947056829929352\n",
            "Minibatch loss at step 5200: 0.004821703769266605\n",
            "Minibatch loss at step 5250: 0.007371810730546713\n",
            "Minibatch loss at step 5300: 0.0025259098038077354\n",
            "Minibatch loss at step 5350: 0.009758281521499157\n",
            "Minibatch loss at step 5400: 0.0178841482847929\n",
            "Minibatch loss at step 5450: 0.007370541337877512\n",
            "Minibatch loss at step 5500: 0.019526664167642593\n",
            "Minibatch loss at step 5550: 0.008762294426560402\n",
            "Minibatch loss at step 5600: 0.007363746874034405\n",
            "Minibatch loss at step 5650: 0.007609101012349129\n",
            "Minibatch loss at step 5700: 0.013127441518008709\n",
            "Minibatch loss at step 5750: 0.013301701284945011\n",
            "Minibatch loss at step 5800: 0.0016950308345258236\n",
            "Minibatch loss at step 5850: 0.012649941258132458\n",
            "Minibatch loss at step 5900: 0.011769410222768784\n",
            "Minibatch loss at step 5950: 0.06891993433237076\n",
            "Minibatch loss at step 6000: 0.012450441718101501\n",
            "Minibatch loss at step 6050: 0.029809588566422462\n",
            "Minibatch loss at step 6100: 0.01584559865295887\n",
            "Minibatch loss at step 6150: 0.04578873887658119\n",
            "Minibatch loss at step 6200: 0.0026960615068674088\n",
            "Minibatch loss at step 6250: 0.006058539263904095\n",
            "Minibatch loss at step 6300: 0.0019594121258705854\n",
            "Minibatch loss at step 6350: 0.04216321185231209\n",
            "Minibatch loss at step 6400: 0.03698136657476425\n",
            "Minibatch loss at step 6450: 0.0038927136920392513\n",
            "Minibatch loss at step 6500: 0.001838693511672318\n",
            "Minibatch loss at step 6550: 0.005996497347950935\n",
            "Minibatch loss at step 6600: 0.017367668449878693\n",
            "Minibatch loss at step 6650: 0.02188088372349739\n",
            "Minibatch loss at step 6700: 0.054912883788347244\n",
            "Minibatch loss at step 6750: 0.0017343803774565458\n",
            "Minibatch loss at step 6800: 0.01878254860639572\n",
            "Minibatch loss at step 6850: 0.02617746591567993\n",
            "Minibatch loss at step 6900: 0.02545655146241188\n",
            "Minibatch loss at step 6950: 0.048996541649103165\n",
            "Minibatch loss at step 7000: 0.029303791001439095\n",
            "Minibatch loss at step 7050: 0.02412349544465542\n",
            "Minibatch loss at step 7100: 0.011528566479682922\n",
            "Minibatch loss at step 7150: 0.0014162810984998941\n",
            "Minibatch loss at step 7200: 0.01321839913725853\n",
            "Minibatch loss at step 7250: 0.0013228274183347821\n",
            "Minibatch loss at step 7300: 0.00045899528777226806\n",
            "Minibatch loss at step 7350: 0.004089600406587124\n",
            "Minibatch loss at step 7400: 0.03083566203713417\n",
            "Minibatch loss at step 7450: 0.01907775178551674\n",
            "Minibatch loss at step 7500: 0.00030117269488982856\n",
            "Minibatch loss at step 7550: 0.002538519911468029\n",
            "Minibatch loss at step 7600: 0.003498584497720003\n",
            "Minibatch loss at step 7650: 0.0039597912691533566\n",
            "Minibatch loss at step 7700: 0.0028256094083189964\n",
            "Minibatch loss at step 7750: 0.011246818117797375\n",
            "Minibatch loss at step 7800: 0.001595039153471589\n",
            "Minibatch loss at step 7850: 0.004462333861738443\n",
            "Minibatch loss at step 7900: 0.009493328630924225\n",
            "Minibatch loss at step 7950: 0.006684421561658382\n",
            "Minibatch loss at step 8000: 0.010966558009386063\n",
            "Minibatch loss at step 8050: 0.014328433200716972\n",
            "Minibatch loss at step 8100: 0.0015913927927613258\n",
            "Minibatch loss at step 8150: 0.0039042490534484386\n",
            "Minibatch loss at step 8200: 0.0026206281036138535\n",
            "Minibatch loss at step 8250: 0.013291099108755589\n",
            "Minibatch loss at step 8300: 0.025989476591348648\n",
            "Minibatch loss at step 8350: 0.016931772232055664\n",
            "Minibatch loss at step 8400: 0.0027440288104116917\n",
            "Minibatch loss at step 8450: 0.0016018034657463431\n",
            "Minibatch loss at step 8500: 0.0002753066655714065\n",
            "Minibatch loss at step 8550: 0.03542226180434227\n",
            "Minibatch loss at step 8600: 0.009759225882589817\n",
            "Minibatch loss at step 8650: 0.11418439447879791\n",
            "Minibatch loss at step 8700: 0.000925133703276515\n",
            "Minibatch loss at step 8750: 0.008005354553461075\n",
            "Minibatch loss at step 8800: 0.004079368431121111\n",
            "Minibatch loss at step 8850: 0.0036029284819960594\n",
            "Minibatch loss at step 8900: 0.00472994614392519\n",
            "Minibatch loss at step 8950: 0.013062691316008568\n",
            "Minibatch loss at step 9000: 0.001470854040235281\n",
            "Minibatch loss at step 9050: 0.006441798061132431\n",
            "Minibatch loss at step 9100: 0.021205129101872444\n",
            "Minibatch loss at step 9150: 0.0010935569880530238\n",
            "Minibatch loss at step 9200: 0.02395785227417946\n",
            "Minibatch loss at step 9250: 0.0010655163787305355\n",
            "Minibatch loss at step 9300: 0.041601963341236115\n",
            "Minibatch loss at step 9350: 0.005876083858311176\n",
            "Minibatch loss at step 9400: 0.04349786788225174\n",
            "Minibatch loss at step 9450: 0.019831068813800812\n",
            "Minibatch loss at step 9500: 0.02327052876353264\n",
            "Minibatch loss at step 9550: 0.0012287030695006251\n",
            "Minibatch loss at step 9600: 0.0027259867638349533\n",
            "Minibatch loss at step 9650: 0.000894804485142231\n",
            "Minibatch loss at step 9700: 0.0013812993420287967\n",
            "Minibatch loss at step 9750: 0.005373929627239704\n",
            "Minibatch loss at step 9800: 0.003953625448048115\n",
            "Minibatch loss at step 9850: 0.023540036752820015\n",
            "Minibatch loss at step 9900: 0.0016267059836536646\n",
            "Minibatch loss at step 9950: 0.021292466670274734\n",
            "Training time: 89.0249514579773s\n"
          ],
          "name": "stdout"
        }
      ]
    },
    {
      "metadata": {
        "id": "5UwByGAKTpZy",
        "colab_type": "code",
        "outputId": "d73d8b4c-585e-4493-c365-204a3efe0c33",
        "colab": {
          "base_uri": "https://localhost:8080/",
          "height": 34
        }
      },
      "cell_type": "code",
      "source": [
        "try:\n",
        "    losses = np.array(losses)\n",
        "    np.save('./train_losses.npy', losses)\n",
        "    print(losses.shape)\n",
        "except NameError:\n",
        "    losses = np.load('./train_losses.npy')"
      ],
      "execution_count": 0,
      "outputs": [
        {
          "output_type": "stream",
          "text": [
            "(200, 2)\n"
          ],
          "name": "stdout"
        }
      ]
    },
    {
      "metadata": {
        "id": "2wQK47N8TpZ-",
        "colab_type": "code",
        "outputId": "d3249a44-b902-49df-9632-768a35557d72",
        "colab": {
          "base_uri": "https://localhost:8080/",
          "height": 349
        }
      },
      "cell_type": "code",
      "source": [
        "import matplotlib.pyplot as plt\n",
        "\n",
        "iterations = losses[:, 0]\n",
        "train_loss = losses[:, 1]\n",
        "\n",
        "plt.figure(figsize=(10, 5))\n",
        "plt.plot(iterations, train_loss, 'b-')\n",
        "plt.xlabel(\"Iterations\")\n",
        "plt.ylabel(\"Loss\")\n",
        "plt.title(\"Training curve\")\n",
        "plt.show()"
      ],
      "execution_count": 0,
      "outputs": [
        {
          "output_type": "display_data",
          "data": {
            "image/png": "[encoded data removed]",
            "text/plain": [
              "<matplotlib.figure.Figure at 0x7f29b01c7668>"
            ]
          },
          "metadata": {
            "tags": []
          }
        }
      ]
    },
    {
      "metadata": {
        "id": "3Bqok8HETpaM",
        "colab_type": "code",
        "outputId": "dfb84266-9fa1-451b-bcb4-ff8710a9d7d5",
        "colab": {
          "base_uri": "https://localhost:8080/",
          "height": 51
        }
      },
      "cell_type": "code",
      "source": [
        "TEST_BATCH_SIZE = 128\n",
        "\n",
        "model.test(test_set, test_label_one_hot, TEST_BATCH_SIZE)"
      ],
      "execution_count": 0,
      "outputs": [
        {
          "output_type": "stream",
          "text": [
            "INFO:tensorflow:Restoring parameters from ./model\n",
            "Average test loss: 0.05543876439332962\n"
          ],
          "name": "stdout"
        }
      ]
    },
    {
      "metadata": {
        "id": "-cW8432PTpaY",
        "colab_type": "code",
        "outputId": "b8871f4e-22e9-4a5e-d85d-b9ece3228a58",
        "colab": {
          "base_uri": "https://localhost:8080/",
          "height": 454
        }
      },
      "cell_type": "code",
      "source": [
        "example = np.random.choice(np.arange(n_test))\n",
        "\n",
        "sample = np.expand_dims(test_set[example], axis=0)\n",
        "label = np.expand_dims(test_label_one_hot[example], axis=0)\n",
        "\n",
        "digit = np.where(label[0]==1.0)[0][0]\n",
        "\n",
        "feed_dict = {model.input: sample, model.ground_truth: label, model.is_training: False}\n",
        "\n",
        "with tf.Session() as sess:\n",
        "    saver = tf.train.import_meta_graph(\"./model.meta\")\n",
        "    saver.restore(sess, './model')\n",
        "    prediction = sess.run(model.prediction, feed_dict=feed_dict)[0]\n",
        "\n",
        "image = np.reshape(sample, (28, 28))\n",
        "\n",
        "print(\"Test sample digit: {}\".format(digit))\n",
        "fig, ax = plt.subplots(1, 2, figsize=(17, 5))\n",
        "ax[0].imshow(image, cmap='gray')\n",
        "ax[0].set_title(\"Test example\")\n",
        "\n",
        "classes = np.arange(10)\n",
        "width = 1.0\n",
        "\n",
        "#fig, ax = plt.subplots()\n",
        "ax[1].bar(classes, prediction, width, color='Blue')\n",
        "ax[1].set_ylabel('Probabilities')\n",
        "ax[1].set_title('Network categorical distribution')\n",
        "ax[1].set_xticks(classes)\n",
        "ax[1].set_xticklabels(('0', '1', '2', '3', '4', '5', '6', '7', '8', '9'))\n",
        "ax[1].set_xlabel('Digit class')\n",
        "\n",
        "plt.show()\n",
        "\n",
        "print(\"Network prediction probabilities:\")\n",
        "print(prediction)"
      ],
      "execution_count": 0,
      "outputs": [
        {
          "output_type": "stream",
          "text": [
            "INFO:tensorflow:Restoring parameters from ./model\n",
            "Test sample digit: 3\n"
          ],
          "name": "stdout"
        },
        {
          "output_type": "display_data",
          "data": {
            "image/png": "[encoded data removed]",
            "text/plain": [
              "<matplotlib.figure.Figure at 0x7f299bc86fd0>"
            ]
          },
          "metadata": {
            "tags": []
          }
        },
        {
          "output_type": "stream",
          "text": [
            "Network prediction probabilities:\n",
            "[4.0883866e-21 7.3330529e-18 4.7990066e-15 1.0000000e+00 2.1179628e-21\n",
            " 2.7741432e-11 8.3799156e-25 1.7318102e-12 5.1510363e-12 6.2179062e-10]\n"
          ],
          "name": "stdout"
        }
      ]
    },
    {
      "metadata": {
        "id": "0Ge2ysWxTpaj",
        "colab_type": "code",
        "outputId": "2826b84a-e519-4aa5-9da5-0800c211f8a2",
        "colab": {
          "base_uri": "https://localhost:8080/",
          "height": 51
        }
      },
      "cell_type": "code",
      "source": [
        "train_time = end_time - start_time\n",
        "print('total training time :', train_time, 's, or ', int(train_time/60), 'min', train_time%60, 's' )\n",
        "count = len(tf.global_variables())\n",
        "print('total parameters involved :', count)"
      ],
      "execution_count": 0,
      "outputs": [
        {
          "output_type": "stream",
          "text": [
            "total training time : 89.0249514579773 s, or  1 min 29.024951457977295 s\n",
            "total parameters involved : 168\n"
          ],
          "name": "stdout"
        }
      ]
    }
  ]
}